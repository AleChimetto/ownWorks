{
 "cells": [
  {
   "cell_type": "markdown",
   "metadata": {},
   "source": [
    "# Classification on Wine Dataset\n",
    "\n",
    "## IMPORTANT: make sure to rerun all the code from the beginning to obtain the results for the final version of your notebook, since this is the way we will do it before evaluting your notebook!!!\n",
    "\n",
    "### Dataset description\n",
    "\n",
    "We will be working with a dataset on wines from the UCI machine learning repository\n",
    "(http://archive.ics.uci.edu/ml/datasets/Wine). It contains data for 178 instances. \n",
    "The dataset is the results of a chemical analysis of wines grown in the same region\n",
    "in Italy but derived from three different cultivars. The analysis determined the\n",
    "quantities of 13 constituents found in each of the three types of wines. \n",
    "\n",
    "### The features in the dataset are:\n",
    "\n",
    "- Alcohol\n",
    "- Malic acid\n",
    "- Ash\n",
    "- Alcalinity of ash\n",
    "- Magnesium\n",
    "- Total phenols\n",
    "- Flavanoids\n",
    "- Nonflavanoid phenols\n",
    "- Proanthocyanins\n",
    "- Color intensity\n",
    "- Hue\n",
    "- OD280/OD315 of diluted wines\n",
    "-Proline\n",
    "\n"
   ]
  },
  {
   "cell_type": "markdown",
   "metadata": {},
   "source": [
    "We first import all the packages that are needed"
   ]
  },
  {
   "cell_type": "code",
   "execution_count": 1,
   "metadata": {
    "jupyter": {
     "outputs_hidden": true
    }
   },
   "outputs": [],
   "source": [
    "%matplotlib inline\n",
    "import matplotlib.pyplot as plt\n",
    "\n",
    "\n",
    "import numpy as np\n",
    "import scipy as sp\n",
    "from scipy import stats\n",
    "from sklearn import datasets\n",
    "from sklearn import linear_model"
   ]
  },
  {
   "cell_type": "markdown",
   "metadata": {},
   "source": [
    "# Perceptron\n",
    "We will implement the perceptron and use it to learn a halfspace with 0-1 loss."
   ]
  },
  {
   "cell_type": "markdown",
   "metadata": {},
   "source": [
    "**TO DO** Set the random seed to your ID (matricola)."
   ]
  },
  {
   "cell_type": "code",
   "execution_count": 2,
   "metadata": {
    "jupyter": {
     "outputs_hidden": true
    }
   },
   "outputs": [],
   "source": [
    "IDnumber = 2021865\n",
    "np.random.seed(IDnumber)"
   ]
  },
  {
   "cell_type": "markdown",
   "metadata": {},
   "source": [
    "Load the dataset from scikit learn and then split in training set and test set (50%-50%) after applying a random permutation to the datset."
   ]
  },
  {
   "cell_type": "code",
   "execution_count": 3,
   "metadata": {
    "jupyter": {
     "outputs_hidden": true
    }
   },
   "outputs": [],
   "source": [
    "# Load the dataset from scikit learn\n",
    "wine = datasets.load_wine()\n",
    "\n",
    "m = wine.data.shape[0]\n",
    "permutation = np.random.permutation(m)\n",
    "\n",
    "X = wine.data[permutation]\n",
    "Y = wine.target[permutation]\n"
   ]
  },
  {
   "cell_type": "markdown",
   "metadata": {},
   "source": [
    "We are going to classify class \"1\" vs the other two classes (0 and 2). We are going to relabel the other classes (0 and 2) as \"-1\" so that we can use it directly with the perceptron."
   ]
  },
  {
   "cell_type": "code",
   "execution_count": 4,
   "metadata": {
    "jupyter": {
     "outputs_hidden": true
    }
   },
   "outputs": [],
   "source": [
    "#let's relabel classes 0 and 2 as -1int(m/2.)\n",
    "\n",
    "for i in range(len(Y)):\n",
    "    if Y[i] != 1:\n",
    "        Y[i] = -1"
   ]
  },
  {
   "cell_type": "markdown",
   "metadata": {},
   "source": [
    "**TO DO** Divide the data into training set and test set (50% of the data each)"
   ]
  },
  {
   "cell_type": "code",
   "execution_count": 5,
   "metadata": {
    "jupyter": {
     "outputs_hidden": true
    }
   },
   "outputs": [
    {
     "name": "stdout",
     "output_type": "stream",
     "text": [
      "[ 1  1 -1 -1  1  1 -1 -1 -1  1 -1 -1 -1  1 -1  1 -1  1  1 -1 -1 -1  1 -1\n",
      " -1 -1  1 -1  1  1  1 -1 -1  1  1 -1  1 -1  1 -1 -1  1 -1 -1 -1 -1  1  1\n",
      "  1  1 -1 -1 -1 -1 -1 -1 -1  1 -1 -1 -1 -1  1  1 -1 -1 -1  1 -1 -1  1  1\n",
      " -1 -1 -1  1  1 -1 -1 -1 -1  1  1 -1 -1 -1  1 -1 -1]\n"
     ]
    }
   ],
   "source": [
    "#Divide in training and test: make sure that your training set\n",
    "#contains at least 10 elements from class 1 and at least 10 elements\n",
    "#from class -1! If it does not, modify the code so to apply more random\n",
    "#permutations (or the same permutation multiple times) until this happens.\n",
    "\n",
    "#m_training needs to be the number of samples in the training set\n",
    "m_training = int(m/2.)\n",
    "\n",
    "#m_test needs to be the number of samples in the test set\n",
    "m_test = m-m_training\n",
    "\n",
    "#X_training = instances for training set\n",
    "X_training = X[:m_training,:]\n",
    "#Y_training = labels for the training set\n",
    "Y_training = Y[:m_training]\n",
    "\n",
    "#X_test = instances for test set\n",
    "X_test = X[m_training:,:]\n",
    "#Y_test = labels for the test set\n",
    "Y_test = Y[m_training:]\n",
    "\n",
    "print(Y_training) #to make sure that Y_training contains both 1 and -1"
   ]
  },
  {
   "cell_type": "markdown",
   "metadata": {},
   "source": [
    "**TO DO** Now add a 1 in front of each sample so that we can use a vector to describe all the coefficients of the model. You can use the function $hstack$ in $numpy$"
   ]
  },
  {
   "cell_type": "code",
   "execution_count": 6,
   "metadata": {
    "jupyter": {
     "outputs_hidden": true
    }
   },
   "outputs": [],
   "source": [
    "#add a 1 to each sample\n",
    "X_training = np.hstack((np.ones((m_training,1)),X_training))\n",
    "X_test = np.hstack((np.ones((m_training,1)),X_test))"
   ]
  },
  {
   "cell_type": "markdown",
   "metadata": {},
   "source": [
    "**TO DO** Now complete the function *perceptron*. Since the perceptron does not terminate if the data is not linearly separable, your implementation should return the desired output (see below) if it reached the termination condition seen in class or if a maximum number of iterations have already been run, where 1 iteration corresponds to 1 update of the perceptron weights. If the perceptron returns because the maximum number of iterations has been reached, you should return an appropriate model. \n",
    "\n",
    "The input parameters to pass are:\n",
    "- $X$: the matrix of input features, one row for each sample\n",
    "- $Y$: the vector of labels for the input features matrix X\n",
    "- $max\\_num\\_iterations$: the maximum number of iterations for running the perceptron\n",
    "\n",
    "The output values are:\n",
    "- $best\\_w$: the vector with the coefficients of the best model\n",
    "- $best\\_error$: the *fraction* of missclassified samples for the best model"
   ]
  },
  {
   "cell_type": "code",
   "execution_count": 7,
   "metadata": {
    "jupyter": {
     "outputs_hidden": true
    }
   },
   "outputs": [],
   "source": [
    "def perceptron(X, Y, max_num_iterations):\n",
    "    w=best_w=np.zeros(X.shape[1])\n",
    "    best_error=m_training\n",
    "    for j in range(max_num_iterations):\n",
    "        error=0\n",
    "        next_w=w.copy()\n",
    "        for i in range(m_training):\n",
    "            if Y[i]*np.dot(w,X[i]) <=0:\n",
    "                error+=1\n",
    "                next_w+=np.dot(Y[i],X[i])\n",
    "        if error==0:\n",
    "            return w, 0\n",
    "        if error<best_error:\n",
    "            best_error=error\n",
    "            best_w=w.copy()\n",
    "        w=next_w.copy()\n",
    "    return best_w, best_error/m_training"
   ]
  },
  {
   "cell_type": "markdown",
   "metadata": {},
   "source": [
    "Now we use the implementation above of the perceptron to learn a model from the training data using 100 iterations and print the error of the best model we have found."
   ]
  },
  {
   "cell_type": "code",
   "execution_count": 8,
   "metadata": {
    "jupyter": {
     "outputs_hidden": true
    }
   },
   "outputs": [
    {
     "name": "stdout",
     "output_type": "stream",
     "text": [
      "Training error with 100 iterations: 0.29213483146067415\n"
     ]
    }
   ],
   "source": [
    "#now run the perceptron for 100 iterations\n",
    "w_found, training_error = perceptron(X_training,Y_training, 100)\n",
    "print(\"Training error with 100 iterations: \"+str(training_error))"
   ]
  },
  {
   "cell_type": "markdown",
   "metadata": {},
   "source": [
    "**TO DO** use the best model $w\\_found$ to predict the labels for the test dataset and print the fraction of missclassified samples in the test set (that is an estimate of the true loss)."
   ]
  },
  {
   "cell_type": "code",
   "execution_count": 9,
   "metadata": {
    "jupyter": {
     "outputs_hidden": true
    }
   },
   "outputs": [
    {
     "name": "stdout",
     "output_type": "stream",
     "text": [
      "Estimated true loss with 100 iterations:0.3595505617977528\n"
     ]
    }
   ],
   "source": [
    "#now use the w_found to make predictions on test dataset\n",
    "\n",
    "#num_errors = number of errors in the test set\n",
    "num_errors = 0.\n",
    "\n",
    "for j in range (m_test):\n",
    "    if Y_test[j]*np.dot(w_found,X_test[j])<=0:\n",
    "        num_errors+=1\n",
    "\n",
    "true_loss_estimate = num_errors/m_test\n",
    "\n",
    "#NOTE: you can avoid using num_errors if you prefer, as long as true_loss_estimate is correct\n",
    "print(\"Estimated true loss with 100 iterations:\"+str(true_loss_estimate))"
   ]
  },
  {
   "cell_type": "markdown",
   "metadata": {},
   "source": [
    "**TO DO**: what relation do you observe between the training error and the (estimated) true loss? Is this what you expected? Explain what you observe and why it does or does not conform to your expectations.\n",
    "\n",
    "**ANSWER**: the true error is a bit higher than the training error as expected, because the vector w computation is based on the training set so the classification of the test set is less accurate due to the generalization."
   ]
  },
  {
   "cell_type": "markdown",
   "metadata": {},
   "source": [
    "**TO DO** Copy the code from the last 2 cells above in the cell below and repeat the training with 10000 iterations. "
   ]
  },
  {
   "cell_type": "code",
   "execution_count": 10,
   "metadata": {
    "jupyter": {
     "outputs_hidden": true
    }
   },
   "outputs": [
    {
     "name": "stdout",
     "output_type": "stream",
     "text": [
      "Training error with 10000 iterations: 0.19101123595505617\n",
      "Estimated true loss with 10000 iterations:0.25842696629213485\n"
     ]
    }
   ],
   "source": [
    "#now run the perceptron for 10000 iterations here!\n",
    "def perceptron(X, Y, max_num_iterations):\n",
    "    w=best_w=np.zeros(X.shape[1])\n",
    "    best_error=m_training\n",
    "    for j in range(max_num_iterations):\n",
    "        error=0\n",
    "        next_w=w.copy()\n",
    "        for i in range(m_training):\n",
    "            if Y[i]*np.dot(w,X[i]) <=0:\n",
    "                error+=1\n",
    "                next_w+=np.dot(Y[i],X[i])\n",
    "        if error==0:\n",
    "            return w, 0\n",
    "        if error<best_error:\n",
    "            best_error=error\n",
    "            best_w=w.copy()\n",
    "        w=next_w.copy()\n",
    "    return best_w, best_error/m_training\n",
    "        \n",
    "w_found, training_error = perceptron(X_training,Y_training, 10000)\n",
    "\n",
    "#training_error = error on the training set\n",
    "print(\"Training error with 10000 iterations: \"+str(training_error))\n",
    "\n",
    "#num_errors = number of errors in the test set\n",
    "num_errors = 0.\n",
    "\n",
    "for j in range (m_test):\n",
    "    if Y_test[j]*np.dot(w_found,X_test[j])<=0:\n",
    "        num_errors+=1\n",
    "\n",
    "true_loss_estimate = num_errors/m_test\n",
    "\n",
    "#NOTE: you can avoid using num_errors if you prefer, as long as true_loss_estimate is correct\n",
    "print(\"Estimated true loss with 10000 iterations:\"+str(true_loss_estimate))"
   ]
  },
  {
   "cell_type": "markdown",
   "metadata": {},
   "source": [
    "**TO DO** [Answer the following] What changes in the training error and in the test error (in terms of fraction of missclassified samples)? Explain what you observe. [Write the answer in this cell]\n",
    "\n",
    "**ANSWER** The training error gets lower thanks to the higher number of iterations, so the learning is more accurate. As a result of the better learning, even the error on the test gets lower. Probably with a higher number of iterations we could have seen the estimated true loss araise due to the overfitting, but that's not the case as the difference between training error and true loss is the same with 100 and 10000 iterations."
   ]
  },
  {
   "cell_type": "markdown",
   "metadata": {},
   "source": [
    "# Logistic Regression\n",
    "Now we use logistic regression, as implemented in Scikit-learn, to predict labels. We first do it for 2 labels and then for 3 labels. We will also plot the decision region of logistic regression.\n",
    "\n",
    "We first load the dataset again."
   ]
  },
  {
   "cell_type": "code",
   "execution_count": 11,
   "metadata": {
    "jupyter": {
     "outputs_hidden": true
    }
   },
   "outputs": [],
   "source": [
    "# Load the dataset from scikit learn\n",
    "wine = datasets.load_wine()\n",
    "\n",
    "m = wine.data.shape[0]\n",
    "permutation = np.random.permutation(m)\n",
    "\n",
    "X = wine.data[permutation]\n",
    "Y = wine.target[permutation]"
   ]
  },
  {
   "cell_type": "markdown",
   "metadata": {},
   "source": [
    "**TO DO** As for the previous part, divide the data into training and test (50%-50%), relabel classes 0 and 2 as -1. Here there is no need to add a 1 at the beginning of each row, since it will be done automatically by the function we will use."
   ]
  },
  {
   "cell_type": "code",
   "execution_count": 12,
   "metadata": {
    "jupyter": {
     "outputs_hidden": true
    }
   },
   "outputs": [],
   "source": [
    "#Divide in training and test: make sure that your training set\n",
    "#contains at least 10 elements from class 1 and at least 10 elements\n",
    "#from class -1! If it does not, modify the code so to apply more random\n",
    "#permutations (or the same permutation multiple times) until this happens.\n",
    "#IMPORTANT: do not change the random seed.\n",
    "\n",
    "m_training = int(m/2.)\n",
    "m_test = m-m_training\n",
    "\n",
    "X_training = X[:m_training,:]\n",
    "Y_training = Y[:m_training]\n",
    "\n",
    "X_test = X[m_training:,:]\n",
    "Y_test = Y[m_training:]\n",
    "\n",
    "#let's relabel classes 0 and 2 as -1\n",
    "\n",
    "for i in range(len(Y)):\n",
    "    if Y[i] != 1:\n",
    "        Y[i] = -1"
   ]
  },
  {
   "cell_type": "markdown",
   "metadata": {},
   "source": [
    "To define a logistic regression model in Scikit-learn use the instruction\n",
    "\n",
    "$linear\\_model.LogisticRegression(C=1e5)$\n",
    "\n",
    "($C$ is a parameter related to *regularization*, a technique that\n",
    "we will see later in the course. Setting it to a high value is almost\n",
    "as ignoring regularization, so the instruction above corresponds to the\n",
    "logistic regression you have seen in class.)\n",
    "\n",
    "To learn the model you need to use the $fit(...)$ instruction and to predict you need to use the $predict(...)$ function. See the Scikit-learn documentation for how to use it.\n",
    "\n",
    "**TO DO** Define the logistic regression model, then learn the model using the training set and predict on the test set. Then print the fraction of samples missclassified in the training set and in the test set."
   ]
  },
  {
   "cell_type": "code",
   "execution_count": 13,
   "metadata": {
    "jupyter": {
     "outputs_hidden": true
    }
   },
   "outputs": [
    {
     "name": "stdout",
     "output_type": "stream",
     "text": [
      "Error rate on training set: 0.0\n",
      "Error rate on test set: 0.0449438202247191\n"
     ]
    }
   ],
   "source": [
    "# Data pre-processing\n",
    "from sklearn import preprocessing\n",
    "scaler = preprocessing.StandardScaler().fit(X_training)\n",
    "X_training = scaler.transform(X_training)\n",
    "X_test = scaler.transform(X_test)\n",
    "\n",
    "#part on logistic regression for 2 classes\n",
    "logreg = linear_model.LogisticRegression(C=1e5)\n",
    "\n",
    "#learn from training set\n",
    "\n",
    "logreg.fit(X_training, Y_training)\n",
    "\n",
    "#predict on training set\n",
    "\n",
    "Ytrain_predicted=logreg.predict(X_training)\n",
    "\n",
    "error_rate_training=np.count_nonzero(Ytrain_predicted!=Y_training)/m_training\n",
    "\n",
    "\n",
    "#print the error rate = fraction of missclassified samples\n",
    "print(\"Error rate on training set: \"+str(error_rate_training))\n",
    "\n",
    "#predict on test set\n",
    "\n",
    "Ytest_predicted=logreg.predict(X_test)\n",
    "\n",
    "error_rate_test=np.count_nonzero(Ytest_predicted!=Y_test)/m_test\n",
    "\n",
    "#print the error rate = fraction of missclassified samples\n",
    "\n",
    "print(\"Error rate on test set: \"+str(error_rate_test))"
   ]
  },
  {
   "cell_type": "markdown",
   "metadata": {},
   "source": [
    "Now we do logistic regression for classification with 3 classes.\n",
    "\n",
    "**TO DO** First: let's load the data once again (with the same permutation from before)."
   ]
  },
  {
   "cell_type": "code",
   "execution_count": 14,
   "metadata": {
    "jupyter": {
     "outputs_hidden": true
    }
   },
   "outputs": [
    {
     "name": "stdout",
     "output_type": "stream",
     "text": [
      "[1 2 0 1 0 1 1 2 2 2 0 1 2 1 1 2 0 2 2 1 0 0 2 1 1 1 1 1 1 2 1 0 0 1 2 2 0\n",
      " 1 1 0 0 2 1 1 2 0 1 1 1 1 2 0 1 0 1 0 1 1 2 1 1 0 1 1 1 2 0 2 0 2 1 1 1 2\n",
      " 0 1 0 2 1 1 1 0 0 2 0 1 1 0 2]\n"
     ]
    }
   ],
   "source": [
    "#part on logistic regression for 3 classes\n",
    "\n",
    "#Divide in training and test: make sure that your training set\n",
    "#contains at least 10 elements from each of the 3 classes!\n",
    "#If it does not, modify the code so to apply more random\n",
    "#permutations (or the same permutation multiple times) until this happens.\n",
    "#IMPORTANT: do not change the random seed.\n",
    "X = wine.data[permutation]\n",
    "Y = wine.target[permutation]\n",
    "\n",
    "X_training = X[:m_training,:]\n",
    "Y_training = Y[:m_training]\n",
    "\n",
    "X_test = X[m_training:,:]\n",
    "Y_test = Y[m_training:]\n",
    "\n",
    "print(Y_training)"
   ]
  },
  {
   "cell_type": "markdown",
   "metadata": {},
   "source": [
    "**TO DO** Now perform logistic regression (instructions as before) for 3 classes, learning a model from the training set and predicting on the test set. Print the fraction of missclassified samples on the training set and the fraction of missclassified samples on the test set."
   ]
  },
  {
   "cell_type": "code",
   "execution_count": 15,
   "metadata": {
    "jupyter": {
     "outputs_hidden": true
    }
   },
   "outputs": [
    {
     "name": "stdout",
     "output_type": "stream",
     "text": [
      "Error rate on training set: 0.0\n",
      "Error rate on test set: 0.056179775280898875\n"
     ]
    }
   ],
   "source": [
    "# Data pre-processing\n",
    "scaler = preprocessing.StandardScaler().fit(X_training)\n",
    "X_training = scaler.transform(X_training)\n",
    "X_test = scaler.transform(X_test)\n",
    "\n",
    "#part on logistic regression for 2 classes\n",
    "logreg = linear_model.LogisticRegression(C=1e5)\n",
    "\n",
    "#learn from training set\n",
    "\n",
    "logreg.fit(X_training, Y_training)\n",
    "\n",
    "#predict on training set\n",
    "\n",
    "Ytrain_predicted=logreg.predict(X_training)\n",
    "\n",
    "error_rate_training=np.count_nonzero(Ytrain_predicted!=Y_training)/m_training\n",
    "\n",
    "\n",
    "#print the error rate = fraction of missclassified samples\n",
    "print(\"Error rate on training set: \"+str(error_rate_training))\n",
    "\n",
    "#predict on test set\n",
    "\n",
    "Ytest_predicted=logreg.predict(X_test)\n",
    "\n",
    "error_rate_test=np.count_nonzero(Ytest_predicted!=Y_test)/m_test\n",
    "\n",
    "#print the error rate = fraction of missclassified samples\n",
    "\n",
    "print(\"Error rate on test set: \"+str(error_rate_test))"
   ]
  },
  {
   "cell_type": "markdown",
   "metadata": {},
   "source": [
    "**TO DO** Now pick two features and restrict the dataset to include only two features, whose indices are specified in the $feature$ vector below. Then split into training and test."
   ]
  },
  {
   "cell_type": "code",
   "execution_count": 16,
   "metadata": {
    "jupyter": {
     "outputs_hidden": true
    }
   },
   "outputs": [],
   "source": [
    "#to make the plot we need to reduce the data to 2D, so we choose two features\n",
    "\n",
    "features_list = ['Alcohol',\n",
    "'Malic acid',\n",
    "'Ash',\n",
    "'Alcalinity of ash',\n",
    "'Magnesium',\n",
    "'Total phenols',\n",
    "'Flavanoids',\n",
    "'Nonflavanoid phenols',\n",
    "'Proanthocyanins',\n",
    "'Color intensity',\n",
    "'Hue',\n",
    "'OD280/OD315 of diluted wines',\n",
    "'Proline']\n",
    "labels_list = ['class_0', 'class_1', 'class_2']\n",
    "\n",
    "index_feature1 = 1\n",
    "index_feature2 = 2\n",
    "features = [index_feature1, index_feature2]\n",
    "\n",
    "feature_name0 = features_list[features[0]]\n",
    "feature_name1 = features_list[features[1]]\n",
    "\n",
    "#X_red is X reduced to include only the 2 features of\n",
    "#indices index_feature1 and index_feature2\n",
    "X_red = X[:,features]\n",
    "\n",
    "X_red_training = X_red[:m_training,:]\n",
    "Y_training = Y[:m_training]\n",
    "\n",
    "X_red_test = X_red[m_training:,:]\n",
    "Y_test = Y[m_training:]"
   ]
  },
  {
   "cell_type": "markdown",
   "metadata": {},
   "source": [
    "Now learn a model using the training data."
   ]
  },
  {
   "cell_type": "code",
   "execution_count": 17,
   "metadata": {
    "jupyter": {
     "outputs_hidden": true
    }
   },
   "outputs": [
    {
     "data": {
      "text/plain": [
       "LogisticRegression(C=100000.0, class_weight=None, dual=False,\n",
       "                   fit_intercept=True, intercept_scaling=1, l1_ratio=None,\n",
       "                   max_iter=100, multi_class='auto', n_jobs=None, penalty='l2',\n",
       "                   random_state=None, solver='lbfgs', tol=0.0001, verbose=0,\n",
       "                   warm_start=False)"
      ]
     },
     "execution_count": 17,
     "metadata": {},
     "output_type": "execute_result"
    }
   ],
   "source": [
    "#part on logistic regression for 2 classes\n",
    "logreg = linear_model.LogisticRegression(C=1e5)\n",
    "\n",
    "#learn from training set\n",
    "\n",
    "logreg.fit(X_red_training, Y_training)"
   ]
  },
  {
   "cell_type": "markdown",
   "metadata": {},
   "source": [
    "If everything is ok, the code below uses the model in $logreg$ to plot the decision region for the two features chosen above, with colors denoting the predicted value. It also plots the points (with correct labels) in the training set. It makes a similar plot for the test set."
   ]
  },
  {
   "cell_type": "code",
   "execution_count": 18,
   "metadata": {
    "jupyter": {
     "outputs_hidden": true
    }
   },
   "outputs": [
    {
     "data": {
      "image/png": "[encoded data removed]",
      "text/plain": [
       "<Figure size 288x216 with 1 Axes>"
      ]
     },
     "metadata": {},
     "output_type": "display_data"
    },
    {
     "data": {
      "image/png": "[encoded data removed]",
      "text/plain": [
       "<Figure size 288x216 with 1 Axes>"
      ]
     },
     "metadata": {},
     "output_type": "display_data"
    }
   ],
   "source": [
    "# Plot the decision boundary. For that, we will assign a color to each\n",
    "# point in the mesh [x_min, x_max]x[y_min, y_max].\n",
    "h = .02  # step size in the mesh\n",
    "x_min, x_max = X_red[:, 0].min() - .5, X_red[:, 0].max() + .5\n",
    "y_min, y_max = X_red[:, 1].min() - .5, X_red[:, 1].max() + .5\n",
    "xx, yy = np.meshgrid(np.arange(x_min, x_max, h), np.arange(y_min, y_max, h))\n",
    "\n",
    "Z = logreg.predict(np.c_[xx.ravel(), yy.ravel()])\n",
    "\n",
    "# Put the result into a color plot\n",
    "Z = Z.reshape(xx.shape)\n",
    "\n",
    "plt.figure(1, figsize=(4, 3))\n",
    "plt.pcolormesh(xx, yy, Z, cmap=plt.cm.Paired)\n",
    "\n",
    "# Plot also the training points\n",
    "plt.scatter(X_red_training[:, 0], X_red_training[:, 1], c=Y_training, edgecolors='k', cmap=plt.cm.Paired)\n",
    "plt.xlabel(feature_name0)\n",
    "plt.ylabel(feature_name1)\n",
    "\n",
    "plt.xlim(xx.min(), xx.max())\n",
    "plt.ylim(yy.min(), yy.max())\n",
    "plt.xticks(())\n",
    "plt.yticks(())\n",
    "plt.title('Training set')\n",
    "\n",
    "plt.show()\n",
    "\n",
    "# Put the result into a color plot\n",
    "Z = Z.reshape(xx.shape)\n",
    "plt.figure(1, figsize=(4, 3))\n",
    "plt.pcolormesh(xx, yy, Z, cmap=plt.cm.Paired)\n",
    "\n",
    "# Plot also the test points \n",
    "plt.scatter(X_red_test[:, 0], X_red_test[:, 1], c=Y_test, edgecolors='k', cmap=plt.cm.Paired, marker='s')\n",
    "plt.xlabel(feature_name0)\n",
    "plt.ylabel(feature_name1)\n",
    "\n",
    "plt.xlim(xx.min(), xx.max())\n",
    "plt.ylim(yy.min(), yy.max())\n",
    "plt.xticks(())\n",
    "plt.yticks(())\n",
    "plt.title('Test set')\n",
    "\n",
    "plt.show()"
   ]
  },
  {
   "cell_type": "code",
   "execution_count": null,
   "metadata": {
    "jupyter": {
     "outputs_hidden": true
    }
   },
   "outputs": [],
   "source": []
  }
 ],
 "metadata": {
  "anaconda-cloud": {},
  "kernelspec": {
   "display_name": "Python 3",
   "language": "python",
   "name": "python3"
  },
  "language_info": {
   "codemirror_mode": {
    "name": "ipython",
    "version": 3
   },
   "file_extension": ".py",
   "mimetype": "text/x-python",
   "name": "python",
   "nbconvert_exporter": "python",
   "pygments_lexer": "ipython3",
   "version": "3.7.6"
  }
 },
 "nbformat": 4,
 "nbformat_minor": 4
}
