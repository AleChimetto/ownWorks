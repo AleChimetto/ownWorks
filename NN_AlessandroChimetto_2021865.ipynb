{
 "cells": [
  {
   "cell_type": "markdown",
   "metadata": {},
   "source": [
    "# Neural Networks for Classification\n",
    "\n",
    "In this notebook we are going to explore the use of Neural Networks for image classification. We are going to use a dataset of small images of clothes and accessories, the Fashion MNIST. You can find more information regarding the dataset here: https://pravarmahajan.github.io/fashion/\n",
    "\n",
    "Each instance in the dataset consist of an image, in a format similar to the digit images you have seen in the previous homework, and a label. The labels correspond to the type of clothing, as follows:\n",
    "\n",
    "| Label | Description |\n",
    "| --- | --- |\n",
    "| 0 | T-shirt/top |\n",
    "| 1 | Trouser |\n",
    "| 2 | Pullover |\n",
    "| 3 | Dress |\n",
    "| 4 | Coat |\n",
    "| 5 | Sandal |\n",
    "| 6 | Shirt |\n",
    "| 7 | Sneaker |\n",
    "| 8 | Bag |\n",
    "| 9 | Ankle boot |"
   ]
  },
  {
   "cell_type": "markdown",
   "metadata": {},
   "source": [
    "Let's first load the required packages."
   ]
  },
  {
   "cell_type": "code",
   "execution_count": 1,
   "metadata": {},
   "outputs": [],
   "source": [
    "#load the required packages\n",
    "\n",
    "%matplotlib inline  \n",
    "\n",
    "import numpy as np\n",
    "import scipy as sp\n",
    "import matplotlib.pyplot as plt\n",
    "\n",
    "import sklearn\n",
    "from sklearn.neural_network import MLPClassifier\n",
    "from sklearn.model_selection import GridSearchCV"
   ]
  },
  {
   "cell_type": "markdown",
   "metadata": {},
   "source": [
    "The following is a function to load the data, that we are going to use later in the notebook."
   ]
  },
  {
   "cell_type": "code",
   "execution_count": 2,
   "metadata": {},
   "outputs": [],
   "source": [
    "# helper function to load Fashion MNIST dataset from disk\n",
    "def load_fashion_mnist(path, kind='train'):\n",
    "    import os\n",
    "    import gzip\n",
    "    import numpy as np\n",
    "    labels_path = os.path.join(path, '%s-labels-idx1-ubyte.gz' % kind)\n",
    "    images_path = os.path.join(path, '%s-images-idx3-ubyte.gz' % kind)\n",
    "    with gzip.open(labels_path, 'rb') as lbpath:\n",
    "        labels = np.frombuffer(lbpath.read(), dtype=np.uint8,offset=8)\n",
    "    with gzip.open(images_path, 'rb') as imgpath:\n",
    "        images = np.frombuffer(imgpath.read(), dtype=np.uint8,offset=16).reshape(len(labels), 784)\n",
    "    return images, labels"
   ]
  },
  {
   "cell_type": "markdown",
   "metadata": {},
   "source": [
    "## TO DO 0\n",
    "Place your ID (\"numero di matricola\") that will be used as seed for random generator. Change the ID number in case you observe unexpected behaviours and want to test if this is due to randomization (e.g., train/test split). If you change the ID number explain why you have change it."
   ]
  },
  {
   "cell_type": "code",
   "execution_count": 3,
   "metadata": {},
   "outputs": [],
   "source": [
    "ID =2021865\n",
    "np.random.seed(ID)"
   ]
  },
  {
   "cell_type": "markdown",
   "metadata": {},
   "source": [
    "Now we load the dataset using the function above."
   ]
  },
  {
   "cell_type": "code",
   "execution_count": 4,
   "metadata": {},
   "outputs": [],
   "source": [
    "#load the fashion MNIST dataset and normalize the features so that each value is in [0,1]\n",
    "X, y = load_fashion_mnist(\"data\")\n",
    "# rescale the data\n",
    "X = X / 255.0"
   ]
  },
  {
   "cell_type": "markdown",
   "metadata": {},
   "source": [
    "Now we split the data into training and test. Make sure that each label is present at least 10 times\n",
    "in the training set."
   ]
  },
  {
   "cell_type": "code",
   "execution_count": 5,
   "metadata": {},
   "outputs": [
    {
     "name": "stdout",
     "output_type": "stream",
     "text": [
      "Labels in training dataset:  [0 1 2 3 4 5 6 7 8 9]\n",
      "Frequencies in training dataset:  [43 55 54 59 50 41 49 41 55 53]\n"
     ]
    }
   ],
   "source": [
    "#random permute the data and split into training and test taking the first 500\n",
    "#data samples as training and the rest as test\n",
    "permutation = np.random.permutation(X.shape[0])\n",
    "\n",
    "X = X[permutation]\n",
    "y = y[permutation]\n",
    "\n",
    "m_training = 500\n",
    "\n",
    "X_train, X_test = X[:m_training], X[m_training:]\n",
    "y_train, y_test = y[:m_training], y[m_training:]\n",
    "\n",
    "labels, freqs = np.unique(y_train, return_counts=True)\n",
    "print(\"Labels in training dataset: \", labels)\n",
    "print(\"Frequencies in training dataset: \", freqs)\n"
   ]
  },
  {
   "cell_type": "markdown",
   "metadata": {},
   "source": [
    "The following function plots an image and the corresponding label, to be used to inspect the data when needed."
   ]
  },
  {
   "cell_type": "code",
   "execution_count": 6,
   "metadata": {},
   "outputs": [],
   "source": [
    "#function for plotting a image and printing the corresponding label\n",
    "def plot_input(X_matrix, labels, index):\n",
    "    print(\"INPUT:\")\n",
    "    plt.imshow(\n",
    "        X_matrix[index].reshape(28,28),\n",
    "        cmap          = plt.cm.gray_r,\n",
    "        interpolation = \"nearest\"\n",
    "    )\n",
    "    plt.show()\n",
    "    print(\"LABEL: %i\"%labels[index])\n",
    "    return"
   ]
  },
  {
   "cell_type": "markdown",
   "metadata": {},
   "source": [
    "Now let's test the function above and check few images."
   ]
  },
  {
   "cell_type": "code",
   "execution_count": 7,
   "metadata": {},
   "outputs": [
    {
     "name": "stdout",
     "output_type": "stream",
     "text": [
      "INPUT:\n"
     ]
    },
    {
     "data": {
      "image/png": "[encoded data removed]",
      "text/plain": [
       "<Figure size 432x288 with 1 Axes>"
      ]
     },
     "metadata": {
      "needs_background": "light"
     },
     "output_type": "display_data"
    },
    {
     "name": "stdout",
     "output_type": "stream",
     "text": [
      "LABEL: 3\n",
      "INPUT:\n"
     ]
    },
    {
     "data": {
      "image/png": "[encoded data removed]",
      "text/plain": [
       "<Figure size 432x288 with 1 Axes>"
      ]
     },
     "metadata": {
      "needs_background": "light"
     },
     "output_type": "display_data"
    },
    {
     "name": "stdout",
     "output_type": "stream",
     "text": [
      "LABEL: 6\n",
      "INPUT:\n"
     ]
    },
    {
     "data": {
      "image/png": "[encoded data removed]",
      "text/plain": [
       "<Figure size 432x288 with 1 Axes>"
      ]
     },
     "metadata": {
      "needs_background": "light"
     },
     "output_type": "display_data"
    },
    {
     "name": "stdout",
     "output_type": "stream",
     "text": [
      "LABEL: 8\n"
     ]
    }
   ],
   "source": [
    "#let's try the plotting function\n",
    "plot_input(X_train,y_train,10)\n",
    "plot_input(X_test,y_test,50)\n",
    "plot_input(X_test,y_test,300)"
   ]
  },
  {
   "cell_type": "markdown",
   "metadata": {},
   "source": [
    "## TO DO 1\n",
    "\n",
    "Now use a (feed-forward) Neural Network for prediction. Use the multi-layer perceptron (MLP) classifier MLPClassifier(...) in scikit-learn, with the following parameters: max_iter=300, alpha=1e-4, solver='sgd', tol=1e-4, learning_rate_init=.1, random_state=ID (this last parameter ensures the run is the same even if you run it more than once). The alpha parameter is the regularization parameter for L2 regularization that is used by the MLP in sklearn.\n",
    "\n",
    "Then, using the default activation function, pick four or five architectures to consider, with different numbers of hidden layers and different sizes. It is not necessary to create huge neural networks, you can limit to 3 layers and, for each layer, its maximum size can be of 100. You can evaluate the architectures you chose using the GridSearchCV with a 5-fold cross-validation, and use the results to pick the best architecture. The code below provides some architectures you can use, but you can choose other ones if you prefer.\n"
   ]
  },
  {
   "cell_type": "code",
   "execution_count": 9,
   "metadata": {},
   "outputs": [
    {
     "name": "stdout",
     "output_type": "stream",
     "text": [
      "RESULTS FOR NN\n",
      "\n",
      "Best parameters set found:{'hidden_layer_sizes': (50, 50)}\n",
      "Score with best parameters:0.796\n",
      "\n",
      "All scores on the grid:{'mean_fit_time': array([0.50183601, 0.73795867, 0.20613294, 0.66898141]), 'std_fit_time': array([0.24974668, 0.04385074, 0.09075886, 0.03451047]), 'mean_score_time': array([0.0009994 , 0.00099916, 0.00079942, 0.0011992 ]), 'std_score_time': array([3.81469727e-07, 7.29420592e-07, 3.99708901e-04, 3.99613761e-04]), 'param_hidden_layer_sizes': masked_array(data=[(10,), (50,), (10, 10), (50, 50)],\n",
      "             mask=[False, False, False, False],\n",
      "       fill_value='?',\n",
      "            dtype=object), 'params': [{'hidden_layer_sizes': (10,)}, {'hidden_layer_sizes': (50,)}, {'hidden_layer_sizes': (10, 10)}, {'hidden_layer_sizes': (50, 50)}], 'split0_test_score': array([0.43, 0.86, 0.19, 0.85]), 'split1_test_score': array([0.73, 0.75, 0.17, 0.76]), 'split2_test_score': array([0.75, 0.76, 0.26, 0.77]), 'split3_test_score': array([0.78, 0.77, 0.55, 0.81]), 'split4_test_score': array([0.79, 0.8 , 0.3 , 0.79]), 'mean_test_score': array([0.696, 0.788, 0.294, 0.796]), 'std_test_score': array([0.13469967, 0.03969887, 0.13632315, 0.032     ]), 'rank_test_score': array([3, 2, 4, 1])}\n"
     ]
    }
   ],
   "source": [
    "#MLPclassifier requires in input the parameter hidden_layer_sizes, that is a tuple specifying the number of \n",
    "#neurons in the hidden layers; for example: (10,) means that there is only 1 hidden layer with 10 neurons; \n",
    "#(10,50) means that there are 2 hidden layers, the first with 10 neurons, the second with 50 neurons\n",
    "\n",
    "#these are examples of possible architectures you can test, but feel free to use different architectures! \n",
    "hl_parameters = {'hidden_layer_sizes': [(10,), (50,), (10,10,), (50,50,)]}\n",
    "\n",
    "mlp_cv = MLPClassifier(max_iter=300, alpha=1e-4, solver='sgd', tol=1e-4, learning_rate_init=.1, random_state=ID)\n",
    "\n",
    "clf=GridSearchCV(mlp_cv, hl_parameters)\n",
    "\n",
    "clf.fit(X_train, y_train)\n",
    "    \n",
    "print ('RESULTS FOR NN\\n')\n",
    "\n",
    "print(\"Best parameters set found:\"+str(clf.best_params_))\n",
    "#ADD YOUR CODE\n",
    "\n",
    "print(\"Score with best parameters:\"+str(clf.best_score_))\n",
    "#ADD YOUR CODE\n",
    "\n",
    "print(\"\\nAll scores on the grid:\"+str(clf.cv_results_))\n",
    "#ADD YOUR CODE"
   ]
  },
  {
   "cell_type": "markdown",
   "metadata": {},
   "source": [
    "## TO DO 2\n",
    "\n",
    "What do you observe for different architectures and their scores? How do the number of layers and their sizes affect the performances?"
   ]
  },
  {
   "cell_type": "markdown",
   "metadata": {
    "collapsed": true
   },
   "source": [
    "The one with more layers with the biggest size is performing better. Bigger layer size is better then more layers, as with layer size=10, one layer performs better then two"
   ]
  },
  {
   "cell_type": "markdown",
   "metadata": {},
   "source": [
    "## TO DO 3\n",
    "\n",
    "Now get training and test error (according to the initial split) for a NN with best parameters chosen from the cross-validation above (and learning the NN weights from the entire training set). Use verbose=True\n",
    "in input so to see how loss changes in iterations. (Note that the loss used by the MLPclassifier may be different from the 0-1 loss, also called *accuracy*.)"
   ]
  },
  {
   "cell_type": "code",
   "execution_count": 10,
   "metadata": {},
   "outputs": [
    {
     "name": "stdout",
     "output_type": "stream",
     "text": [
      "Iteration 1, loss = 2.24185499\n",
      "Iteration 2, loss = 1.87364540\n",
      "Iteration 3, loss = 1.58061833\n",
      "Iteration 4, loss = 2.20707917\n",
      "Iteration 5, loss = 1.32816522\n",
      "Iteration 6, loss = 0.94803899\n",
      "Iteration 7, loss = 0.99155762\n",
      "Iteration 8, loss = 1.12737816\n",
      "Iteration 9, loss = 0.73909243\n",
      "Iteration 10, loss = 0.58096856\n",
      "Iteration 11, loss = 0.54384363\n",
      "Iteration 12, loss = 0.49719732\n",
      "Iteration 13, loss = 0.49857109\n",
      "Iteration 14, loss = 0.39399026\n",
      "Iteration 15, loss = 0.39905136\n",
      "Iteration 16, loss = 0.37681836\n",
      "Iteration 17, loss = 0.34235516\n",
      "Iteration 18, loss = 0.33539223\n",
      "Iteration 19, loss = 0.29471778\n",
      "Iteration 20, loss = 0.31992906\n",
      "Iteration 21, loss = 0.24062772\n",
      "Iteration 22, loss = 0.20420272\n",
      "Iteration 23, loss = 0.18194898\n",
      "Iteration 24, loss = 0.20022145\n",
      "Iteration 25, loss = 0.72926605\n",
      "Iteration 26, loss = 0.76417964\n",
      "Iteration 27, loss = 0.46218017\n",
      "Iteration 28, loss = 0.38121423\n",
      "Iteration 29, loss = 0.34632022\n",
      "Iteration 30, loss = 0.31686725\n",
      "Iteration 31, loss = 0.29057771\n",
      "Iteration 32, loss = 0.37334171\n",
      "Iteration 33, loss = 0.29833613\n",
      "Iteration 34, loss = 0.25996898\n",
      "Training loss did not improve more than tol=0.000100 for 10 consecutive epochs. Stopping.\n",
      "\n",
      "RESULTS FOR BEST NN\n",
      "\n",
      "Best NN training error: 0.078000\n",
      "Best NN test error: 0.234723\n"
     ]
    }
   ],
   "source": [
    "#get training and test error for the best NN model from CV\n",
    "\n",
    "mlp = MLPClassifier(hidden_layer_sizes=(50, 50,), max_iter=300, alpha=1e-4, verbose=True, solver='sgd', tol=1e-4, learning_rate_init=.1, random_state=ID)\n",
    "\n",
    "mlp.fit(X_train, y_train)\n",
    "\n",
    "training_error = 1. - mlp.score(X_train,y_train)\n",
    "\n",
    "test_error = 1. - mlp.score(X_test,y_test)\n",
    "\n",
    "print ('\\nRESULTS FOR BEST NN\\n')\n",
    "\n",
    "print (\"Best NN training error: %f\" % training_error)\n",
    "print (\"Best NN test error: %f\" % test_error)"
   ]
  },
  {
   "cell_type": "markdown",
   "metadata": {},
   "source": [
    "## More data \n",
    "Now let's do the same but using 10000 (or less if it takes too long on your machine) data points for training. Use the same NN architectures as before, but you can try more if you want!"
   ]
  },
  {
   "cell_type": "code",
   "execution_count": 11,
   "metadata": {},
   "outputs": [
    {
     "name": "stdout",
     "output_type": "stream",
     "text": [
      "Labels and frequencies in training dataset: \n"
     ]
    },
    {
     "data": {
      "text/plain": [
       "(array([0, 1, 2, 3, 4, 5, 6, 7, 8, 9], dtype=uint8),\n",
       " array([ 999, 1022,  995,  965, 1031, 1028,  986,  996,  997,  981],\n",
       "       dtype=int64))"
      ]
     },
     "execution_count": 11,
     "metadata": {},
     "output_type": "execute_result"
    }
   ],
   "source": [
    "X = X[permutation]\n",
    "y = y[permutation]\n",
    "\n",
    "m_training = 10000\n",
    "\n",
    "X_train, X_test = X[:m_training], X[m_training:]\n",
    "y_train, y_test = y[:m_training], y[m_training:]\n",
    "\n",
    "print(\"Labels and frequencies in training dataset: \")\n",
    "np.unique(y_train, return_counts=True)"
   ]
  },
  {
   "cell_type": "markdown",
   "metadata": {},
   "source": [
    "## TO DO 4\n",
    "\n",
    "Now train the NNs with the added data points. Feel free to try more different architectures than before if you want, or less if it takes too much time. You can use 'verbose=True' so have an idea of how long it takes to run 1 iteration (eventually reduce also the number of iterations to 50)."
   ]
  },
  {
   "cell_type": "code",
   "execution_count": 12,
   "metadata": {},
   "outputs": [
    {
     "name": "stdout",
     "output_type": "stream",
     "text": [
      "RESULTS FOR NN\n",
      "\n",
      "Best parameters set found:{'hidden_layer_sizes': (50, 50)}\n",
      "Score with best parameters:0.8456999999999999\n",
      "\n",
      "All scores on the grid:{'mean_fit_time': array([10.56538997, 17.41864967,  5.69093084, 14.37822728]), 'std_fit_time': array([2.23069806, 4.6711156 , 1.74552076, 2.74083269]), 'mean_score_time': array([0.00659795, 0.00959721, 0.00559821, 0.0105969 ]), 'std_score_time': array([0.00272763, 0.00185401, 0.0004898 , 0.00101952]), 'param_hidden_layer_sizes': masked_array(data=[(10,), (50,), (10, 10), (50, 50)],\n",
      "             mask=[False, False, False, False],\n",
      "       fill_value='?',\n",
      "            dtype=object), 'params': [{'hidden_layer_sizes': (10,)}, {'hidden_layer_sizes': (50,)}, {'hidden_layer_sizes': (10, 10)}, {'hidden_layer_sizes': (50, 50)}], 'split0_test_score': array([0.804 , 0.8565, 0.806 , 0.86  ]), 'split1_test_score': array([0.809 , 0.845 , 0.815 , 0.8405]), 'split2_test_score': array([0.823 , 0.856 , 0.8115, 0.85  ]), 'split3_test_score': array([0.811, 0.827, 0.799, 0.836]), 'split4_test_score': array([0.7995, 0.8385, 0.8095, 0.842 ]), 'mean_test_score': array([0.8093, 0.8446, 0.8082, 0.8457]), 'std_test_score': array([0.00793473, 0.01112385, 0.0054461 , 0.00845931]), 'rank_test_score': array([3, 2, 4, 1])}\n"
     ]
    }
   ],
   "source": [
    "#for NN we try the same architectures as before\n",
    "hl_parameters = {'hidden_layer_sizes': [(10,), (50,), (10,10,), (50,50,)]}\n",
    "\n",
    "mlp_large_cv = MLPClassifier(max_iter=300, alpha=1e-4, solver='sgd', tol=1e-4, learning_rate_init=.1, random_state=ID)\n",
    "\n",
    "clf=GridSearchCV(mlp_cv, hl_parameters)\n",
    "\n",
    "clf.fit(X_train, y_train)\n",
    "    \n",
    "print ('RESULTS FOR NN\\n')\n",
    "\n",
    "print(\"Best parameters set found:\"+str(clf.best_params_))\n",
    "#ADD YOUR CODE\n",
    "\n",
    "print(\"Score with best parameters:\"+str(clf.best_score_))\n",
    "#ADD YOUR CODE\n",
    "\n",
    "print(\"\\nAll scores on the grid:\"+str(clf.cv_results_))\n",
    "#ADD YOUR CODE\n"
   ]
  },
  {
   "cell_type": "markdown",
   "metadata": {},
   "source": [
    "## TO DO 5\n",
    "Choosing the same architectures as before, with more samples their rank based on the score is the same. The  scores got better with more samples"
   ]
  },
  {
   "cell_type": "markdown",
   "metadata": {},
   "source": [
    "## TO DO 6\n",
    "\n",
    "Get the train and test error for the best NN you obtained with 10000 points. This time you can run for 100 iterations if you cannot run for 300 iterations. \n"
   ]
  },
  {
   "cell_type": "code",
   "execution_count": 13,
   "metadata": {},
   "outputs": [
    {
     "name": "stdout",
     "output_type": "stream",
     "text": [
      "Iteration 1, loss = 1.04620556\n",
      "Iteration 2, loss = 0.52875300\n",
      "Iteration 3, loss = 0.45627712\n",
      "Iteration 4, loss = 0.41080063\n",
      "Iteration 5, loss = 0.38440075\n",
      "Iteration 6, loss = 0.35687524\n",
      "Iteration 7, loss = 0.34345462\n",
      "Iteration 8, loss = 0.33210804\n",
      "Iteration 9, loss = 0.31226120\n",
      "Iteration 10, loss = 0.28921350\n",
      "Iteration 11, loss = 0.28262375\n",
      "Iteration 12, loss = 0.27635076\n",
      "Iteration 13, loss = 0.26713245\n",
      "Iteration 14, loss = 0.25504043\n",
      "Iteration 15, loss = 0.24644728\n",
      "Iteration 16, loss = 0.24360991\n",
      "Iteration 17, loss = 0.22782427\n",
      "Iteration 18, loss = 0.23086270\n",
      "Iteration 19, loss = 0.21782012\n",
      "Iteration 20, loss = 0.20263471\n",
      "Iteration 21, loss = 0.20229745\n",
      "Iteration 22, loss = 0.19466996\n",
      "Iteration 23, loss = 0.19564938\n",
      "Iteration 24, loss = 0.19112345\n",
      "Iteration 25, loss = 0.17524854\n",
      "Iteration 26, loss = 0.17283591\n",
      "Iteration 27, loss = 0.17636398\n",
      "Iteration 28, loss = 0.16169150\n",
      "Iteration 29, loss = 0.16001283\n",
      "Iteration 30, loss = 0.15175097\n",
      "Iteration 31, loss = 0.15979338\n",
      "Iteration 32, loss = 0.14802171\n",
      "Iteration 33, loss = 0.15360398\n",
      "Iteration 34, loss = 0.13210846\n",
      "Iteration 35, loss = 0.14203710\n",
      "Iteration 36, loss = 0.12858963\n",
      "Iteration 37, loss = 0.14790205\n",
      "Iteration 38, loss = 0.13310498\n",
      "Iteration 39, loss = 0.12209498\n",
      "Iteration 40, loss = 0.11414908\n",
      "Iteration 41, loss = 0.12045123\n",
      "Iteration 42, loss = 0.12333822\n",
      "Iteration 43, loss = 0.11764829\n",
      "Iteration 44, loss = 0.13809171\n",
      "Iteration 45, loss = 0.11709699\n",
      "Iteration 46, loss = 0.09873735\n",
      "Iteration 47, loss = 0.10816408\n",
      "Iteration 48, loss = 0.12632453\n",
      "Iteration 49, loss = 0.10256043\n",
      "Iteration 50, loss = 0.09037126\n",
      "Iteration 51, loss = 0.09917088\n",
      "Iteration 52, loss = 0.08557022\n",
      "Iteration 53, loss = 0.08900770\n",
      "Iteration 54, loss = 0.09413373\n",
      "Iteration 55, loss = 0.10762367\n",
      "Iteration 56, loss = 0.08525135\n",
      "Iteration 57, loss = 0.07883791\n",
      "Iteration 58, loss = 0.07101487\n",
      "Iteration 59, loss = 0.09000095\n",
      "Iteration 60, loss = 0.09687610\n",
      "Iteration 61, loss = 0.07711316\n",
      "Iteration 62, loss = 0.07408445\n",
      "Iteration 63, loss = 0.07383756\n",
      "Iteration 64, loss = 0.07161230\n",
      "Iteration 65, loss = 0.06857580\n",
      "Iteration 66, loss = 0.07303484\n",
      "Iteration 67, loss = 0.07865528\n",
      "Iteration 68, loss = 0.06321546\n",
      "Iteration 69, loss = 0.06821118\n",
      "Iteration 70, loss = 0.05949059\n",
      "Iteration 71, loss = 0.07378698\n",
      "Iteration 72, loss = 0.06844187\n",
      "Iteration 73, loss = 0.05595594\n",
      "Iteration 74, loss = 0.06385109\n",
      "Iteration 75, loss = 0.05846787\n",
      "Iteration 76, loss = 0.09047830\n",
      "Iteration 77, loss = 0.10412249\n",
      "Iteration 78, loss = 0.05862610\n",
      "Iteration 79, loss = 0.04957798\n",
      "Iteration 80, loss = 0.05251576\n",
      "Iteration 81, loss = 0.04840336\n",
      "Iteration 82, loss = 0.04549485\n",
      "Iteration 83, loss = 0.06984435\n",
      "Iteration 84, loss = 0.08304266\n",
      "Iteration 85, loss = 0.04886174\n",
      "Iteration 86, loss = 0.04585411\n",
      "Iteration 87, loss = 0.04751284\n",
      "Iteration 88, loss = 0.04596225\n",
      "Iteration 89, loss = 0.05271809\n",
      "Iteration 90, loss = 0.04907382\n",
      "Iteration 91, loss = 0.04570419\n",
      "Iteration 92, loss = 0.06305312\n",
      "Iteration 93, loss = 0.07195475\n",
      "Training loss did not improve more than tol=0.000100 for 10 consecutive epochs. Stopping.\n",
      "RESULTS FOR BEST NN\n",
      "\n",
      "Best NN training error: 0.023800\n",
      "Best NN test error: 0.162000\n"
     ]
    }
   ],
   "source": [
    "#get training and test error for the best NN model from CV\n",
    "\n",
    "best_mlp_large = MLPClassifier(hidden_layer_sizes=(50,50,), max_iter=300, alpha=1e-4, verbose=True, solver='sgd', tol=1e-4, learning_rate_init=.1, random_state=ID)\n",
    "\n",
    "best_mlp_large.fit(X_train, y_train)\n",
    "\n",
    "training_error = 1. - best_mlp_large.score(X_train,y_train)\n",
    "\n",
    "test_error = 1. - best_mlp_large.score(X_test,y_test)\n",
    "\n",
    "print ('RESULTS FOR BEST NN\\n')\n",
    "\n",
    "print (\"Best NN training error: %f\" % training_error)\n",
    "print (\"Best NN test error: %f\" % test_error)"
   ]
  },
  {
   "cell_type": "markdown",
   "metadata": {},
   "source": [
    "## TO DO 7\n",
    "\n",
    "The architecture is the same in the two cases, and the performances got better with more samples. The number of iterations to reach convergence has increased"
   ]
  },
  {
   "cell_type": "markdown",
   "metadata": {},
   "source": [
    "## TO DO 8\n",
    "\n",
    "Plot an image that was missclassified by NN with m=500 training data points and it is now instead correctly classified by NN with m=10000 training data points."
   ]
  },
  {
   "cell_type": "code",
   "execution_count": 14,
   "metadata": {},
   "outputs": [
    {
     "name": "stdout",
     "output_type": "stream",
     "text": [
      "INPUT:\n"
     ]
    },
    {
     "data": {
      "image/png": "[encoded data removed]",
      "text/plain": [
       "<Figure size 432x288 with 1 Axes>"
      ]
     },
     "metadata": {
      "needs_background": "light"
     },
     "output_type": "display_data"
    },
    {
     "name": "stdout",
     "output_type": "stream",
     "text": [
      "LABEL: 8\n",
      "indice errato: 4\n",
      "label m=500: 3\n",
      "label m=10000: 8\n"
     ]
    }
   ],
   "source": [
    "y_predicted_500 = mlp.predict(X_test)\n",
    "y_predicted_10000= best_mlp_large.predict(X_test)\n",
    "for i in range(0, len(X_test)):\n",
    "    if y_predicted_500[i] != y_test[i]:\n",
    "        if y_predicted_10000[i] == y_test[i]:\n",
    "            break\n",
    "plot_input(X_test,y_test,i)\n",
    "print(\"indice errato: \" + str(i))\n",
    "print(\"label m=500: \" + str(y_predicted_500[i]))\n",
    "print(\"label m=10000: \" + str(y_predicted_10000[i]))\n"
   ]
  },
  {
   "cell_type": "markdown",
   "metadata": {},
   "source": [
    "Let's plot some of the weigths of the multi-layer perceptron classifier, for the best NN we get with 500 data points and with 10000 data points. The code below plots the weights in a matrix form, where a figure represents all the weights of the edges entering in a hidden node. Notice that the code assumes that the NNs are called \"mlp\" and \"best_mlp_large\": you may need to replace such variables with your variable names. \n",
    "\n"
   ]
  },
  {
   "cell_type": "code",
   "execution_count": 15,
   "metadata": {},
   "outputs": [
    {
     "name": "stdout",
     "output_type": "stream",
     "text": [
      "Weights with 500 data points:\n"
     ]
    },
    {
     "data": {
      "image/png": "[encoded data removed]",
      "text/plain": [
       "<Figure size 432x288 with 16 Axes>"
      ]
     },
     "metadata": {},
     "output_type": "display_data"
    },
    {
     "name": "stdout",
     "output_type": "stream",
     "text": [
      "Weights with 10000 data points:\n"
     ]
    },
    {
     "data": {
      "image/png": "[encoded data removed]",
      "text/plain": [
       "<Figure size 432x288 with 16 Axes>"
      ]
     },
     "metadata": {},
     "output_type": "display_data"
    }
   ],
   "source": [
    "print(\"Weights with 500 data points:\")\n",
    "\n",
    "fig, axes = plt.subplots(4, 4)\n",
    "vmin, vmax = mlp.coefs_[0].min(), mlp.coefs_[0].max()\n",
    "for coef, ax in zip(mlp.coefs_[0].T, axes.ravel()):\n",
    "    ax.matshow(coef.reshape(28, 28), cmap=plt.cm.gray, vmin=.5 * vmin, vmax=.5 * vmax)\n",
    "    ax.set_xticks(())\n",
    "    ax.set_yticks(())\n",
    "\n",
    "plt.show()\n",
    "\n",
    "print(\"Weights with 10000 data points:\")\n",
    "\n",
    "fig, axes = plt.subplots(4, 4)\n",
    "vmin, vmax = best_mlp_large.coefs_[0].min(), best_mlp_large.coefs_[0].max()\n",
    "for coef, ax in zip(best_mlp_large.coefs_[0].T, axes.ravel()):\n",
    "    ax.matshow(coef.reshape(28, 28), cmap=plt.cm.gray, vmin=.5 * vmin, vmax=.5 * vmax)\n",
    "    ax.set_xticks(())\n",
    "    ax.set_yticks(())\n",
    "plt.show()"
   ]
  },
  {
   "cell_type": "markdown",
   "metadata": {},
   "source": [
    "## TO DO 9\n",
    "\n",
    "With 10000 data points the weights are more similar as they more homogeneous, while with 500 sample they look more granular."
   ]
  },
  {
   "cell_type": "markdown",
   "metadata": {},
   "source": [
    "## TO DO 10\n",
    "\n",
    "Pick another classifier among the ones we have seen previously (SVM or something else). Report the training and test error for such classifier with 10000 samples in the training set, if possible; if the classifier cannot run with so many data sample reduce the number of samples.\n",
    "\n",
    "*Note*: if there are parameters to be optimized use cross-validation. If you choose SVM, you can decide if you want to use a single kernel or use the best among many; in the latter case, you need to pick the best kernel using cross-validation (using the functions available in sklearn).\n",
    "\n",
    "**[LogiticRegression]**"
   ]
  },
  {
   "cell_type": "code",
   "execution_count": 16,
   "metadata": {},
   "outputs": [
    {
     "name": "stdout",
     "output_type": "stream",
     "text": [
      "RESULTS FOR OTHER CLASSIFIER\n",
      "\n",
      "Best training error (other model): 0.074000\n",
      "Best test error (other model): 0.170220\n"
     ]
    }
   ],
   "source": [
    "from sklearn import linear_model\n",
    "\n",
    "lr = linear_model.LogisticRegression(max_iter=2000)\n",
    "# fit the model on the training data\n",
    "lr.fit(X_train, y_train)\n",
    "\n",
    "training_error_other = 1. - lr.score(X_train,y_train)\n",
    "\n",
    "test_error_other = 1. - lr.score(X_test,y_test)\n",
    "\n",
    "print ('RESULTS FOR OTHER CLASSIFIER\\n')\n",
    "\n",
    "print (\"Best training error (other model): %f\" % training_error_other)\n",
    "print (\"Best test error (other model): %f\" % test_error_other)"
   ]
  },
  {
   "cell_type": "markdown",
   "metadata": {
    "collapsed": true
   },
   "source": [
    "## TO DO 11\n",
    "Compare the results of NN and of the other classifier you have chosen above. Which classifier would you preferer? Provide a brief explanation."
   ]
  },
  {
   "cell_type": "markdown",
   "metadata": {
    "collapsed": true
   },
   "source": [
    "The NN classificator has better performances in both training and test set, so it would be the one I choose, even if it is a bit slower."
   ]
  },
  {
   "cell_type": "markdown",
   "metadata": {},
   "source": [
    "# Clustering with K-means\n",
    "\n",
    "Clustering is a useful technique for *unsupervised* learning. We are now going to cluster 2000 images in the fashion MNIST dataset, and try to understand if the clusters we obtain correspond to the true labels."
   ]
  },
  {
   "cell_type": "code",
   "execution_count": 17,
   "metadata": {},
   "outputs": [],
   "source": [
    "#load the required packages\n",
    "\n",
    "from sklearn import metrics\n",
    "from sklearn.cluster import KMeans"
   ]
  },
  {
   "cell_type": "markdown",
   "metadata": {},
   "source": [
    "(Note that the code below assumes that the data has already been transformed as in the NN part of the notebook, so make sure to run the code for the transformation even if you do not complete the part on NN.)"
   ]
  },
  {
   "cell_type": "code",
   "execution_count": 18,
   "metadata": {},
   "outputs": [],
   "source": [
    "#let's consider only 2000 data points\n",
    "\n",
    "X = X[permutation]\n",
    "y = y[permutation]\n",
    "\n",
    "m_training = 2000\n",
    "\n",
    "X_train, X_test = X[:m_training], X[m_training:]\n",
    "y_train, y_test = y[:m_training], y[m_training:]"
   ]
  },
  {
   "cell_type": "markdown",
   "metadata": {},
   "source": [
    "## TO DO 1\n",
    "Cluster the points using the KMeans() and fit() functions (see the userguide for details). For Kmeans, set: n_clusters=10 as number of clusters; n_init=10 as the number of times the algorithm will be run with different centroid seeds; random_state = ID. You can use the default setting for the other parameters."
   ]
  },
  {
   "cell_type": "code",
   "execution_count": 19,
   "metadata": {},
   "outputs": [],
   "source": [
    "kmeans = KMeans(n_clusters=10,n_init=10, random_state=ID).fit(X_train)\n",
    "\n",
    "y_train_predicted=kmeans.predict(X_train)\n",
    "\n",
    "y_test_predicted=kmeans.predict(X_test)"
   ]
  },
  {
   "cell_type": "markdown",
   "metadata": {},
   "source": [
    "## Comparison of clusters with true labels"
   ]
  },
  {
   "cell_type": "markdown",
   "metadata": {},
   "source": [
    "## TO DO 2\n",
    "Now compare the obtained clusters with the true labels, using the function sklearn.metrics.cluster.contingency_matrix() (see the userguide for details). The function prints a matrix $A$ such that entry $A_{i,j}$ is is the number of samples in true class $i$ and in predicted class $j$."
   ]
  },
  {
   "cell_type": "code",
   "execution_count": 20,
   "metadata": {},
   "outputs": [
    {
     "name": "stdout",
     "output_type": "stream",
     "text": [
      "[[  0   1 114  44   0  30   4   7   0   0]\n",
      " [  0 164   1  11   0  11   1   2   0   0]\n",
      " [  1   0   4  51   0   3 101  42   0   0]\n",
      " [  1  74   3  33   0  93   1   7   0   0]\n",
      " [  0   1   0  25   0  36  95  44   0   0]\n",
      " [  1   0   0  48 105   0   0   0   4  23]\n",
      " [  2   1  22  67   0  21  48  43   0   0]\n",
      " [  0   0   0   0 144   0   0   0   2  49]\n",
      " [111   0   2  22   9   1   7  66   0   5]\n",
      " [  0   1   0   5   5   0   0   0 100  81]]\n",
      "[[  28   63 3099 1641    4  715   98  152    0    0]\n",
      " [   3 4990   14  268    0  442   58   35    0    0]\n",
      " [  28    4   46 1251    2   79 3124 1264    0    0]\n",
      " [   4 1989   74  997    0 2578   41  105    0    0]\n",
      " [  17   66    8  637    0  937 3093 1041    0    0]\n",
      " [   5    0    0 1440 3416    4    0    6  237  711]\n",
      " [  70   24  726 1764    9  507 1563 1130    1    2]\n",
      " [   2    0    0    9 4659    0    0    0   26 1109]\n",
      " [2425    7    7  573  313   45  228 2033    4  142]\n",
      " [   4    0    0  131  101    5    1   12 2791 2763]]\n"
     ]
    }
   ],
   "source": [
    "# compute and print the contingency matrix for the true labels vs the clustering assignments\n",
    "A_train=sklearn.metrics.cluster.contingency_matrix(y_train, y_train_predicted, eps=None, sparse=False)\n",
    "A_test=sklearn.metrics.cluster.contingency_matrix(y_test, y_test_predicted, eps=None, sparse=False)\n",
    "print(A_train)\n",
    "print(A_test)"
   ]
  },
  {
   "cell_type": "markdown",
   "metadata": {},
   "source": [
    "## TO DO 3\n",
    "Based on the matrix shown above, comment on the results of clustering in terms of adherence to the true labels.\n",
    "\n",
    "The clusters are not really good as the values on the diagonal aren't the biggest in most of the rows, so there are a lot of samples missclassified"
   ]
  },
  {
   "cell_type": "markdown",
   "metadata": {},
   "source": [
    "## Choice of k with silhoutte coefficient\n",
    "In many real applications it is unclear what is the correct value of $k$ to use. In practice one tries different values of $k$ and then uses some external score to choose a value of $k$. One such score is the silhoutte coefficient, that can be computed with metrics.silhouette_score(). See the definition of the silhoutte coefficient in the userguide."
   ]
  },
  {
   "cell_type": "markdown",
   "metadata": {},
   "source": [
    "## TO DO 4\n",
    "Compute the clustering for k=2,3,...,15 (other parameters as above) and print the silhoutte coefficient for each such clustering."
   ]
  },
  {
   "cell_type": "code",
   "execution_count": 21,
   "metadata": {},
   "outputs": [
    {
     "name": "stdout",
     "output_type": "stream",
     "text": [
      "Silhoutte coefficient for number of clusters=2: 0.18632566641422157\n",
      "Silhoutte coefficient for number of clusters=3: 0.1851141475424203\n",
      "Silhoutte coefficient for number of clusters=4: 0.17592094297458372\n",
      "Silhoutte coefficient for number of clusters=5: 0.16213424218587114\n",
      "Silhoutte coefficient for number of clusters=6: 0.1529627258022953\n",
      "Silhoutte coefficient for number of clusters=7: 0.1644437199983679\n",
      "Silhoutte coefficient for number of clusters=8: 0.1698618028606184\n",
      "Silhoutte coefficient for number of clusters=9: 0.14950968820334828\n",
      "Silhoutte coefficient for number of clusters=10: 0.1422733166253838\n",
      "Silhoutte coefficient for number of clusters=11: 0.14131369279886474\n",
      "Silhoutte coefficient for number of clusters=12: 0.1330241305130363\n",
      "Silhoutte coefficient for number of clusters=13: 0.12758893226008863\n",
      "Silhoutte coefficient for number of clusters=14: 0.1273021180219502\n",
      "Silhoutte coefficient for number of clusters=15: 0.12537857771327715\n"
     ]
    }
   ],
   "source": [
    "#run k-means with 10 choices of initial centroids for a range of values of n_clusters\n",
    "\n",
    "for i in range(2,16):\n",
    "    kmeans = KMeans(n_clusters=i, n_init=10, random_state=ID).fit(X_train)\n",
    "    silhouttescore = sklearn.metrics.silhouette_score(X_train, kmeans.predict(X_train), metric='euclidean')\n",
    "    print(\"Silhoutte coefficient for number of clusters=\"+str(i)+\": \"+str(silhouttescore))"
   ]
  },
  {
   "cell_type": "markdown",
   "metadata": {},
   "source": [
    "## TO DO 5\n",
    "\n",
    "Based on the silhoutte score, which $k$ would you pick? Motivate your choice. Does your choice match what you know about the data? If yes, explain why you think this is the case; if no, explain what you think may be the reason."
   ]
  },
  {
   "cell_type": "markdown",
   "metadata": {},
   "source": [
    "The value of K with the best coefficent is 2, so that would be the one I pick. Although, there are 10 classes in the dataset, so it would be logical to pick K=10 so that every cluster could be associated with one class."
   ]
  },
  {
   "cell_type": "code",
   "execution_count": null,
   "metadata": {},
   "outputs": [],
   "source": []
  }
 ],
 "metadata": {
  "kernelspec": {
   "display_name": "Python 3",
   "language": "python",
   "name": "python3"
  },
  "language_info": {
   "codemirror_mode": {
    "name": "ipython",
    "version": 3
   },
   "file_extension": ".py",
   "mimetype": "text/x-python",
   "name": "python",
   "nbconvert_exporter": "python",
   "pygments_lexer": "ipython3",
   "version": "3.7.6"
  }
 },
 "nbformat": 4,
 "nbformat_minor": 2
}
