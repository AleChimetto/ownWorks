{
 "cells": [
  {
   "cell_type": "markdown",
   "metadata": {},
   "source": [
    "# SVM for classification, without and with kernels\n",
    "\n",
    "In this notebook we are going to explore the use of Support Vector Machines (SVMs) for image classification. We are going to use the famous MNIST dataset, that is a dataset of handwritten digits. We get the data from mldata.org, that is a public repository for machine learning data.\n",
    "\n",
    "The dataset consists of 70,000 images of handwritten digits (i.e., 0, 1, ... 9). Each image is 28 pixels by 28 pixels and we can think of it as a vector of 28x28 = 784 numbers. Each number is an integer between 0 and 255. For each image we have the corresponding label (i.e., 0, 1, ..., 9)."
   ]
  },
  {
   "cell_type": "code",
   "execution_count": 1,
   "metadata": {},
   "outputs": [],
   "source": [
    "#load the required packages\n",
    "\n",
    "%matplotlib inline  \n",
    "\n",
    "import numpy as np\n",
    "import matplotlib.pyplot as plt\n",
    "\n",
    "import sklearn\n",
    "from sklearn.datasets import fetch_openml"
   ]
  },
  {
   "cell_type": "code",
   "execution_count": 2,
   "metadata": {},
   "outputs": [],
   "source": [
    "#fix your ID (\"numero di matricola\") and the seed for random generator\n",
    "ID = 2021865\n",
    "np.random.seed(ID)"
   ]
  },
  {
   "cell_type": "markdown",
   "metadata": {},
   "source": [
    "Now let's load the dataset. 'data' contains the input, 'target' contains the label. We normalize the data by dividing each value by 255 so that each value is in [0,1]"
   ]
  },
  {
   "cell_type": "code",
   "execution_count": 3,
   "metadata": {},
   "outputs": [],
   "source": [
    "#load the MNIST dataset and let's normalize the features so that each value is in [0,1]\n",
    "mnist = fetch_openml('mnist_784', version=1)\n",
    "# rescale the data\n",
    "X, y = mnist.data / 255., mnist.target"
   ]
  },
  {
   "cell_type": "markdown",
   "metadata": {},
   "source": [
    "Now split into training and test. We keep 500 samples in the training set. Make sure that each label is present at least 10 times\n",
    "in training. If it is not, then keep adding permutations to the initial data until this \n",
    "happens.\n",
    "\n",
    "**IMPORTANT**: if you cannot run the SVM with 500 samples or 1000 samples (see below), try with a smaller number of samples (e.g. 200 here and 400 below)."
   ]
  },
  {
   "cell_type": "code",
   "execution_count": 4,
   "metadata": {},
   "outputs": [
    {
     "name": "stdout",
     "output_type": "stream",
     "text": [
      "Labels and frequencies in training dataset: \n"
     ]
    },
    {
     "data": {
      "text/plain": [
       "(array(['0', '1', '2', '3', '4', '5', '6', '7', '8', '9'], dtype=object),\n",
       " array([51, 59, 43, 53, 37, 51, 42, 52, 52, 60], dtype=int64))"
      ]
     },
     "execution_count": 4,
     "metadata": {},
     "output_type": "execute_result"
    }
   ],
   "source": [
    "#random permute the data and split into training and test taking the first 500\n",
    "#data samples as training and the rests as test\n",
    "permutation = np.random.permutation(X.shape[0])\n",
    "\n",
    "X = X[permutation]\n",
    "y = y[permutation]\n",
    "\n",
    "m_training = 500\n",
    "\n",
    "X_train, X_test = X[:m_training], X[m_training:]\n",
    "y_train, y_test = y[:m_training], y[m_training:]\n",
    "\n",
    "print(\"Labels and frequencies in training dataset: \")\n",
    "np.unique(y_train, return_counts = True)"
   ]
  },
  {
   "cell_type": "markdown",
   "metadata": {},
   "source": [
    "We now provide a function to print an image in a dataset, the corresponding true label, and the index of the image in the dataset."
   ]
  },
  {
   "cell_type": "code",
   "execution_count": 5,
   "metadata": {},
   "outputs": [],
   "source": [
    "#function for plotting a digit and printing the corresponding labe\n",
    "def plot_digit(X_matrix, labels, index):\n",
    "    print(\"INPUT:\")\n",
    "    plt.imshow(\n",
    "        X_matrix[index].reshape(28,28),\n",
    "        cmap          = plt.cm.gray_r,\n",
    "        interpolation = \"nearest\"\n",
    "    )\n",
    "    plt.show()\n",
    "    print(\"LABEL: %s\" % labels[index])\n",
    "    return"
   ]
  },
  {
   "cell_type": "markdown",
   "metadata": {},
   "source": [
    "As an example, let's print the 100-th image in X_train and the 40,000-th image in X_test and their true labels."
   ]
  },
  {
   "cell_type": "code",
   "execution_count": 6,
   "metadata": {},
   "outputs": [
    {
     "name": "stdout",
     "output_type": "stream",
     "text": [
      "INPUT:\n"
     ]
    },
    {
     "data": {
      "image/png": "[encoded data removed]",
      "text/plain": [
       "<Figure size 432x288 with 1 Axes>"
      ]
     },
     "metadata": {
      "needs_background": "light"
     },
     "output_type": "display_data"
    },
    {
     "name": "stdout",
     "output_type": "stream",
     "text": [
      "LABEL: 1\n",
      "INPUT:\n"
     ]
    },
    {
     "data": {
      "image/png": "[encoded data removed]",
      "text/plain": [
       "<Figure size 432x288 with 1 Axes>"
      ]
     },
     "metadata": {
      "needs_background": "light"
     },
     "output_type": "display_data"
    },
    {
     "name": "stdout",
     "output_type": "stream",
     "text": [
      "LABEL: 2\n"
     ]
    }
   ],
   "source": [
    "#let's try the plotting function\n",
    "plot_digit(X_train,y_train,100)\n",
    "plot_digit(X_test,y_test,40000)"
   ]
  },
  {
   "cell_type": "markdown",
   "metadata": {},
   "source": [
    "## TO DO 1\n",
    "Run SVM with cross validation to pick a kernel and values of parameters. Use a 5-fold cross-validation to pick the best kernel and choice of parameters. We provide some potential choice for parameters, but change the grid if needed (e.g., it takes too long). For the SVM for classification use SVC from sklearn.svm; for the grid search we suggest you use GridSearchCV from sklearn.model_selection, but you can implement your own cross-validation for model selection if you prefer.\n",
    "\n",
    "Print the best parameters used as well as the score obtained by the best model"
   ]
  },
  {
   "cell_type": "code",
   "execution_count": 7,
   "metadata": {},
   "outputs": [
    {
     "name": "stdout",
     "output_type": "stream",
     "text": [
      "RESULTS FOR LINEAR KERNEL\n",
      "\n",
      "Best parameters set found:{'C': 1}\n",
      "Score with best parameters:0.876\n",
      "\n",
      "All scores on the grid:{'mean_fit_time': array([0.0902266 , 0.08877802, 0.08857827]), 'std_fit_time': array([0.00226869, 0.00324897, 0.00205568]), 'mean_score_time': array([0.02179508, 0.02159395, 0.02159524]), 'std_score_time': array([0.00040116, 0.00048903, 0.00079877]), 'param_C': masked_array(data=[1, 10, 100],\n",
      "             mask=[False, False, False],\n",
      "       fill_value='?',\n",
      "            dtype=object), 'params': [{'C': 1}, {'C': 10}, {'C': 100}], 'split0_test_score': array([0.87, 0.87, 0.87]), 'split1_test_score': array([0.84, 0.84, 0.84]), 'split2_test_score': array([0.91, 0.91, 0.91]), 'split3_test_score': array([0.89, 0.89, 0.89]), 'split4_test_score': array([0.87, 0.87, 0.87]), 'mean_test_score': array([0.876, 0.876, 0.876]), 'std_test_score': array([0.02332381, 0.02332381, 0.02332381]), 'rank_test_score': array([1, 1, 1])}\n",
      "\n",
      "RESULTS FOR POLY DEGREE=2 KERNEL\n",
      "\n",
      "Best parameters set found:{'C': 10, 'gamma': 0.01}\n",
      "Score with best parameters:0.8880000000000001\n",
      "\n",
      "All scores on the grid:{'mean_fit_time': array([0.12137532, 0.11470428, 0.11487422, 0.11457162, 0.11668921,\n",
      "       0.11736269, 0.12221847, 0.11476374, 0.11824145]), 'std_fit_time': array([0.0020567 , 0.00183935, 0.00310197, 0.00286834, 0.0028224 ,\n",
      "       0.00436228, 0.01016329, 0.00396919, 0.00526549]), 'mean_score_time': array([0.02299175, 0.02079616, 0.0207139 , 0.0208951 , 0.02086182,\n",
      "       0.02119503, 0.02139282, 0.02079673, 0.02109613]), 'std_score_time': array([0.00089262, 0.00074931, 0.00062665, 0.00079916, 0.00077856,\n",
      "       0.00074646, 0.00080013, 0.00074775, 0.00066321]), 'param_C': masked_array(data=[1, 1, 1, 10, 10, 10, 100, 100, 100],\n",
      "             mask=[False, False, False, False, False, False, False, False,\n",
      "                   False],\n",
      "       fill_value='?',\n",
      "            dtype=object), 'param_gamma': masked_array(data=[0.01, 0.1, 1.0, 0.01, 0.1, 1.0, 0.01, 0.1, 1.0],\n",
      "             mask=[False, False, False, False, False, False, False, False,\n",
      "                   False],\n",
      "       fill_value='?',\n",
      "            dtype=object), 'params': [{'C': 1, 'gamma': 0.01}, {'C': 1, 'gamma': 0.1}, {'C': 1, 'gamma': 1.0}, {'C': 10, 'gamma': 0.01}, {'C': 10, 'gamma': 0.1}, {'C': 10, 'gamma': 1.0}, {'C': 100, 'gamma': 0.01}, {'C': 100, 'gamma': 0.1}, {'C': 100, 'gamma': 1.0}], 'split0_test_score': array([0.81, 0.87, 0.87, 0.87, 0.87, 0.87, 0.87, 0.87, 0.87]), 'split1_test_score': array([0.8 , 0.85, 0.85, 0.85, 0.85, 0.85, 0.85, 0.85, 0.85]), 'split2_test_score': array([0.83, 0.94, 0.94, 0.94, 0.94, 0.94, 0.94, 0.94, 0.94]), 'split3_test_score': array([0.83, 0.89, 0.89, 0.89, 0.89, 0.89, 0.89, 0.89, 0.89]), 'split4_test_score': array([0.84, 0.88, 0.88, 0.89, 0.88, 0.88, 0.88, 0.88, 0.88]), 'mean_test_score': array([0.822, 0.886, 0.886, 0.888, 0.886, 0.886, 0.886, 0.886, 0.886]), 'std_test_score': array([0.01469694, 0.03006659, 0.03006659, 0.02993326, 0.03006659,\n",
      "       0.03006659, 0.03006659, 0.03006659, 0.03006659]), 'rank_test_score': array([9, 2, 2, 1, 2, 2, 2, 2, 2])}\n",
      "\n",
      "RESULTS FOR POLY DEGREE=2 KERNEL\n",
      "\n",
      "Best parameters set found:{'C': 10, 'gamma': 0.01}\n",
      "Score with best parameters:0.9019999999999999\n",
      "\n",
      "All scores on the grid:{'mean_fit_time': array([0.13852229, 0.21882811, 0.22750564, 0.16262002, 0.22273827,\n",
      "       0.24632521, 0.15887146, 0.21652689, 0.25165777]), 'std_fit_time': array([0.00456736, 0.00750645, 0.00342476, 0.0053876 , 0.00318623,\n",
      "       0.00503521, 0.00425578, 0.00273413, 0.012015  ]), 'mean_score_time': array([0.0255043 , 0.02879138, 0.02892714, 0.02549624, 0.03003325,\n",
      "       0.03059206, 0.02489729, 0.0282937 , 0.03040576]), 'std_score_time': array([0.00064894, 0.00116523, 0.00085174, 0.00141152, 0.00127729,\n",
      "       0.00080275, 0.00065905, 0.00116778, 0.0011096 ]), 'param_C': masked_array(data=[1, 1, 1, 10, 10, 10, 100, 100, 100],\n",
      "             mask=[False, False, False, False, False, False, False, False,\n",
      "                   False],\n",
      "       fill_value='?',\n",
      "            dtype=object), 'param_gamma': masked_array(data=[0.01, 0.1, 1.0, 0.01, 0.1, 1.0, 0.01, 0.1, 1.0],\n",
      "             mask=[False, False, False, False, False, False, False, False,\n",
      "                   False],\n",
      "       fill_value='?',\n",
      "            dtype=object), 'params': [{'C': 1, 'gamma': 0.01}, {'C': 1, 'gamma': 0.1}, {'C': 1, 'gamma': 1.0}, {'C': 10, 'gamma': 0.01}, {'C': 10, 'gamma': 0.1}, {'C': 10, 'gamma': 1.0}, {'C': 100, 'gamma': 0.01}, {'C': 100, 'gamma': 0.1}, {'C': 100, 'gamma': 1.0}], 'split0_test_score': array([0.88, 0.62, 0.13, 0.88, 0.64, 0.13, 0.88, 0.64, 0.13]), 'split1_test_score': array([0.87, 0.57, 0.14, 0.86, 0.59, 0.14, 0.86, 0.59, 0.14]), 'split2_test_score': array([0.89, 0.57, 0.12, 0.94, 0.59, 0.12, 0.94, 0.59, 0.12]), 'split3_test_score': array([0.89, 0.6 , 0.12, 0.9 , 0.61, 0.12, 0.9 , 0.61, 0.12]), 'split4_test_score': array([0.85, 0.59, 0.13, 0.93, 0.59, 0.13, 0.93, 0.59, 0.13]), 'mean_test_score': array([0.876, 0.59 , 0.128, 0.902, 0.604, 0.128, 0.902, 0.604, 0.128]), 'std_test_score': array([0.01496663, 0.01897367, 0.00748331, 0.02993326, 0.01959592,\n",
      "       0.00748331, 0.02993326, 0.01959592, 0.00748331]), 'rank_test_score': array([3, 6, 7, 1, 4, 7, 1, 4, 7])}\n"
     ]
    }
   ],
   "source": [
    "#import SVC\n",
    "from sklearn.svm import SVC\n",
    "#import for Cross-Validation\n",
    "from sklearn.model_selection import GridSearchCV\n",
    "\n",
    "# parameters for linear SVM\n",
    "parameters = {'C': [1, 10, 100]}\n",
    "\n",
    "#run linear SVM\n",
    "linear_SVM = SVC(kernel='linear')\n",
    "\n",
    "#find best model using 5-fold CV \n",
    "#and train it using all the training data\n",
    "\n",
    "clf=GridSearchCV(linear_SVM, parameters)\n",
    "\n",
    "clf.fit(X_train,y_train)\n",
    "\n",
    "print ('RESULTS FOR LINEAR KERNEL\\n')\n",
    "\n",
    "print(\"Best parameters set found:\" + str(clf.best_params_))\n",
    "# ADD CODE\n",
    "\n",
    "print(\"Score with best parameters:\" + str(clf.best_score_))\n",
    "# ADD CODE\n",
    "\n",
    "print(\"\\nAll scores on the grid:\" + str(clf.cv_results_))\n",
    "# ADD CODE\n",
    "\n",
    "# parameters for poly with degree 2 kernel\n",
    "parameters = {'C': [1, 10, 100],'gamma':[0.01,0.1,1.]}\n",
    "\n",
    "#run SVM with poly of degree 2 kernel\n",
    "poly2_SVM = SVC(kernel='poly',degree=2)\n",
    "\n",
    "clf=GridSearchCV(poly2_SVM, parameters)\n",
    "\n",
    "clf.fit(X_train,y_train)\n",
    "\n",
    "print ('\\nRESULTS FOR POLY DEGREE=2 KERNEL\\n')\n",
    "\n",
    "print(\"Best parameters set found:\" + str(clf.best_params_))\n",
    "# ADD CODE\n",
    "\n",
    "print(\"Score with best parameters:\" + str(clf.best_score_))\n",
    "# ADD CODE\n",
    "\n",
    "print(\"\\nAll scores on the grid:\" + str(clf.cv_results_))\n",
    "# ADD CODE\n",
    "\n",
    "# parameters for rbf SVM\n",
    "parameters = {'C': [1, 10, 100],'gamma':[0.01,0.1,1.]}\n",
    "\n",
    "#run SVM with rbf kernel\n",
    "rbf_SVM = SVC(kernel='rbf')\n",
    "\n",
    "clf=GridSearchCV(rbf_SVM, parameters)\n",
    "\n",
    "clf.fit(X_train,y_train)\n",
    "\n",
    "print ('\\nRESULTS FOR POLY DEGREE=2 KERNEL\\n')\n",
    "\n",
    "print(\"Best parameters set found:\" + str(clf.best_params_))\n",
    "# ADD CODE\n",
    "\n",
    "print(\"Score with best parameters:\" + str(clf.best_score_))\n",
    "# ADD CODE\n",
    "\n",
    "print(\"\\nAll scores on the grid:\" + str(clf.cv_results_))\n",
    "# ADD CODE"
   ]
  },
  {
   "cell_type": "markdown",
   "metadata": {},
   "source": [
    "## TO DO 2\n",
    "For the \"best\" SVM kernel and choice of parameters from above, train the model on the entire training set and measure the training error. Also make predictions on the test set and measure the test error. Print the training and the test error."
   ]
  },
  {
   "cell_type": "code",
   "execution_count": 8,
   "metadata": {},
   "outputs": [
    {
     "name": "stdout",
     "output_type": "stream",
     "text": [
      "Best SVM training error: 0.000000\n",
      "Best SVM test error: 0.104791\n"
     ]
    }
   ],
   "source": [
    "#get training and test error for the best SVM model from CV\n",
    "best_SVM = SVC(C=10.0, kernel='rbf', gamma=0.01)\n",
    "\n",
    "# fit the model on the entire training set\n",
    "# ADD CODE\n",
    "best_SVM.fit(X_train, y_train)\n",
    "\n",
    "#get the training and test error\n",
    "training_error = 1. - best_SVM.score(X_train,y_train)\n",
    "test_error = 1. - best_SVM.score(X_test,y_test)\n",
    "\n",
    "print (\"Best SVM training error: %f\" % training_error)\n",
    "print (\"Best SVM test error: %f\" % test_error)"
   ]
  },
  {
   "cell_type": "markdown",
   "metadata": {},
   "source": [
    "## Use logistic regression for comparison\n",
    "\n",
    "## TO DO 3\n",
    "\n",
    "Just for comparison let's also use logistic regression, first with the default values of the parameter for regularization and then with cross-validation to fix the value of the parameter. For cross validation, use 5-fold cross validation and the default values of the regularization parameters for the function linear_model.LogisticRegressionCV(...)"
   ]
  },
  {
   "cell_type": "code",
   "execution_count": 9,
   "metadata": {},
   "outputs": [
    {
     "name": "stdout",
     "output_type": "stream",
     "text": [
      "Best logistic regression training error: 0.000000\n",
      "Best logistic regression test error: 0.156144\n",
      "Best logistic regression training error: 0.036000\n",
      "Best logistic regression test error: 0.162273\n"
     ]
    }
   ],
   "source": [
    "from sklearn import linear_model\n",
    "\n",
    "lr = linear_model.LogisticRegression(max_iter=1000)\n",
    "# fit the model on the training data\n",
    "lr.fit(X_train, y_train)\n",
    "\n",
    "#compute training and test error for model above\n",
    "training_error = 1. - lr.score(X_train,y_train)\n",
    "test_error = 1. - lr.score(X_test,y_test)\n",
    "\n",
    "print (\"Best logistic regression training error: %f\" % training_error)\n",
    "print (\"Best logistic regression test error: %f\" % test_error)\n",
    "\n",
    "#logistic regression with 5-fold CV: you can use use linear_model.LogisticRegressionCV\n",
    "# use 5-fold CV to find the best choice of the parameter, than train\n",
    "# the model on the entire training set\n",
    "lr_cv = linear_model.LogisticRegressionCV(max_iter=1000)\n",
    "lr_cv.fit(X_train, y_train)\n",
    "training_error_cv = 1. - lr_cv.score(X_train,y_train)\n",
    "test_error_cv = 1. - lr_cv.score(X_test,y_test)\n",
    "\n",
    "print (\"Best logistic regression training error: %f\" % training_error_cv)\n",
    "print (\"Best logistic regression test error: %f\" % test_error_cv)"
   ]
  },
  {
   "cell_type": "markdown",
   "metadata": {},
   "source": [
    "## TO DO 4 \n",
    "\n",
    "Unexpectedly, logistic regression with 5_fold CV has worst performance than without. Both, SVM and Logistic regression have training error=0.0 but SVM has a better performance on the test set"
   ]
  },
  {
   "cell_type": "markdown",
   "metadata": {},
   "source": [
    "## TO DO 5\n",
    "Write the code that finds and plots a digit that is missclassified by logistic regression (optimized for the regularization parameter) and correctly classified by the \"best\" SVM."
   ]
  },
  {
   "cell_type": "code",
   "execution_count": 10,
   "metadata": {
    "scrolled": true
   },
   "outputs": [
    {
     "name": "stdout",
     "output_type": "stream",
     "text": [
      "INPUT:\n"
     ]
    },
    {
     "data": {
      "image/png": "[encoded data removed]",
      "text/plain": [
       "<Figure size 432x288 with 1 Axes>"
      ]
     },
     "metadata": {
      "needs_background": "light"
     },
     "output_type": "display_data"
    },
    {
     "name": "stdout",
     "output_type": "stream",
     "text": [
      "LABEL: 4\n",
      "indice errato: 0\n",
      "label logistic regression: 9\n",
      "label svm: 4\n"
     ]
    }
   ],
   "source": [
    "y_predicted_lr = lr_cv.predict(X_test)\n",
    "y_predicted_svm = best_SVM.predict(X_test)\n",
    "for i in range( 0, len(X_test)):\n",
    "    if y_predicted_lr[i] != y_test[i]:\n",
    "        if y_predicted_svm[i] == y_test[i]:\n",
    "            break\n",
    "plot_digit(X_test,y_test,i)\n",
    "print(\"indice errato: \" + str(i))\n",
    "print(\"label logistic regression: \" + y_predicted_lr[i])\n",
    "print(\"label svm: \" + y_predicted_svm[i])"
   ]
  },
  {
   "cell_type": "markdown",
   "metadata": {},
   "source": [
    "## More data\n",
    "Now let's do the same but using 1000 data points for training. \n",
    "\n",
    "## TO DO 6\n",
    "Repeat the entire analysis above using 1000 samples. Of course you can copy the code from above."
   ]
  },
  {
   "cell_type": "code",
   "execution_count": 11,
   "metadata": {},
   "outputs": [
    {
     "name": "stdout",
     "output_type": "stream",
     "text": [
      "RESULTS FOR LINEAR KERNEL\n",
      "\n",
      "Best parameters set found:{'C': 1, 'gamma': 0.01}\n",
      "Score with best parameters:0.859\n",
      "\n",
      "All scores on the grid:{'mean_fit_time': array([0.22612705, 0.22486062, 0.22454867, 0.22619495, 0.22403164,\n",
      "       0.22375216, 0.22470112, 0.22534056, 0.22519054]), 'std_fit_time': array([0.00388354, 0.00332374, 0.00317286, 0.00565958, 0.00396785,\n",
      "       0.00256316, 0.0032317 , 0.00499998, 0.00323379]), 'mean_score_time': array([0.06660314, 0.06679473, 0.06601405, 0.06778073, 0.06837921,\n",
      "       0.06648555, 0.06648149, 0.06757998, 0.06648602]), 'std_score_time': array([0.00205413, 0.0019653 , 0.00222155, 0.00396759, 0.00462921,\n",
      "       0.0020044 , 0.00253152, 0.00387799, 0.00192625]), 'param_C': masked_array(data=[1, 1, 1, 10, 10, 10, 100, 100, 100],\n",
      "             mask=[False, False, False, False, False, False, False, False,\n",
      "                   False],\n",
      "       fill_value='?',\n",
      "            dtype=object), 'param_gamma': masked_array(data=[0.01, 0.1, 1.0, 0.01, 0.1, 1.0, 0.01, 0.1, 1.0],\n",
      "             mask=[False, False, False, False, False, False, False, False,\n",
      "                   False],\n",
      "       fill_value='?',\n",
      "            dtype=object), 'params': [{'C': 1, 'gamma': 0.01}, {'C': 1, 'gamma': 0.1}, {'C': 1, 'gamma': 1.0}, {'C': 10, 'gamma': 0.01}, {'C': 10, 'gamma': 0.1}, {'C': 10, 'gamma': 1.0}, {'C': 100, 'gamma': 0.01}, {'C': 100, 'gamma': 0.1}, {'C': 100, 'gamma': 1.0}], 'split0_test_score': array([0.84, 0.84, 0.84, 0.84, 0.84, 0.84, 0.84, 0.84, 0.84]), 'split1_test_score': array([0.875, 0.875, 0.875, 0.875, 0.875, 0.875, 0.875, 0.875, 0.875]), 'split2_test_score': array([0.86, 0.86, 0.86, 0.86, 0.86, 0.86, 0.86, 0.86, 0.86]), 'split3_test_score': array([0.88, 0.88, 0.88, 0.88, 0.88, 0.88, 0.88, 0.88, 0.88]), 'split4_test_score': array([0.84, 0.84, 0.84, 0.84, 0.84, 0.84, 0.84, 0.84, 0.84]), 'mean_test_score': array([0.859, 0.859, 0.859, 0.859, 0.859, 0.859, 0.859, 0.859, 0.859]), 'std_test_score': array([0.0168523, 0.0168523, 0.0168523, 0.0168523, 0.0168523, 0.0168523,\n",
      "       0.0168523, 0.0168523, 0.0168523]), 'rank_test_score': array([1, 1, 1, 1, 1, 1, 1, 1, 1])}\n",
      "\n",
      "RESULTS FOR POLY DEGREE=2 KERNEL\n",
      "\n",
      "Best parameters set found:{'C': 1, 'gamma': 0.1}\n",
      "Score with best parameters:0.8909999999999998\n",
      "\n",
      "All scores on the grid:{'mean_fit_time': array([0.36282592, 0.29206934, 0.29275041, 0.29144702, 0.29401498,\n",
      "       0.29339643, 0.29401236, 0.29061866, 0.29108672]), 'std_fit_time': array([0.00302461, 0.00339377, 0.00299958, 0.0009011 , 0.00502487,\n",
      "       0.00313552, 0.00531042, 0.00344579, 0.0034871 ]), 'mean_score_time': array([0.07980356, 0.0688818 , 0.06880493, 0.06899366, 0.06869869,\n",
      "       0.0688776 , 0.06948824, 0.06898589, 0.06838436]), 'std_score_time': array([0.00042976, 0.00079806, 0.00072472, 0.00084494, 0.00073628,\n",
      "       0.00079938, 0.00062843, 0.00070854, 0.00058126]), 'param_C': masked_array(data=[1, 1, 1, 10, 10, 10, 100, 100, 100],\n",
      "             mask=[False, False, False, False, False, False, False, False,\n",
      "                   False],\n",
      "       fill_value='?',\n",
      "            dtype=object), 'param_gamma': masked_array(data=[0.01, 0.1, 1.0, 0.01, 0.1, 1.0, 0.01, 0.1, 1.0],\n",
      "             mask=[False, False, False, False, False, False, False, False,\n",
      "                   False],\n",
      "       fill_value='?',\n",
      "            dtype=object), 'params': [{'C': 1, 'gamma': 0.01}, {'C': 1, 'gamma': 0.1}, {'C': 1, 'gamma': 1.0}, {'C': 10, 'gamma': 0.01}, {'C': 10, 'gamma': 0.1}, {'C': 10, 'gamma': 1.0}, {'C': 100, 'gamma': 0.01}, {'C': 100, 'gamma': 0.1}, {'C': 100, 'gamma': 1.0}], 'split0_test_score': array([0.855, 0.87 , 0.87 , 0.87 , 0.87 , 0.87 , 0.87 , 0.87 , 0.87 ]), 'split1_test_score': array([0.885, 0.865, 0.865, 0.86 , 0.865, 0.865, 0.865, 0.865, 0.865]), 'split2_test_score': array([0.875, 0.905, 0.905, 0.91 , 0.905, 0.905, 0.905, 0.905, 0.905]), 'split3_test_score': array([0.925, 0.945, 0.945, 0.94 , 0.945, 0.945, 0.945, 0.945, 0.945]), 'split4_test_score': array([0.825, 0.87 , 0.87 , 0.87 , 0.87 , 0.87 , 0.87 , 0.87 , 0.87 ]), 'mean_test_score': array([0.873, 0.891, 0.891, 0.89 , 0.891, 0.891, 0.891, 0.891, 0.891]), 'std_test_score': array([0.03310589, 0.03056141, 0.03056141, 0.0303315 , 0.03056141,\n",
      "       0.03056141, 0.03056141, 0.03056141, 0.03056141]), 'rank_test_score': array([9, 1, 1, 8, 1, 1, 1, 1, 1])}\n",
      "\n",
      "RESULTS FOR POLY DEGREE=2 KERNEL\n",
      "\n",
      "Best parameters set found:{'C': 10, 'gamma': 0.01}\n",
      "Score with best parameters:0.9109999999999999\n",
      "\n",
      "All scores on the grid:{'mean_fit_time': array([0.38765569, 0.83283415, 0.89121709, 0.37410588, 0.83444152,\n",
      "       0.91434021, 0.37420807, 0.83080068, 0.91187062]), 'std_fit_time': array([0.00307833, 0.00286486, 0.00610875, 0.00908137, 0.00293486,\n",
      "       0.00243528, 0.00799702, 0.00342817, 0.00498565]), 'mean_score_time': array([0.08907094, 0.11260552, 0.11827717, 0.08518071, 0.11171107,\n",
      "       0.11497211, 0.08459868, 0.11225276, 0.11566491]), 'std_score_time': array([0.00095743, 0.00221965, 0.00436553, 0.00103336, 0.00100063,\n",
      "       0.00084345, 0.00121546, 0.00128853, 0.00343714]), 'param_C': masked_array(data=[1, 1, 1, 10, 10, 10, 100, 100, 100],\n",
      "             mask=[False, False, False, False, False, False, False, False,\n",
      "                   False],\n",
      "       fill_value='?',\n",
      "            dtype=object), 'param_gamma': masked_array(data=[0.01, 0.1, 1.0, 0.01, 0.1, 1.0, 0.01, 0.1, 1.0],\n",
      "             mask=[False, False, False, False, False, False, False, False,\n",
      "                   False],\n",
      "       fill_value='?',\n",
      "            dtype=object), 'params': [{'C': 1, 'gamma': 0.01}, {'C': 1, 'gamma': 0.1}, {'C': 1, 'gamma': 1.0}, {'C': 10, 'gamma': 0.01}, {'C': 10, 'gamma': 0.1}, {'C': 10, 'gamma': 1.0}, {'C': 100, 'gamma': 0.01}, {'C': 100, 'gamma': 0.1}, {'C': 100, 'gamma': 1.0}], 'split0_test_score': array([0.895, 0.505, 0.155, 0.9  , 0.555, 0.155, 0.9  , 0.555, 0.155]), 'split1_test_score': array([0.915, 0.565, 0.115, 0.895, 0.605, 0.115, 0.895, 0.605, 0.115]), 'split2_test_score': array([0.885, 0.575, 0.115, 0.915, 0.62 , 0.115, 0.915, 0.62 , 0.115]), 'split3_test_score': array([0.95 , 0.605, 0.175, 0.96 , 0.65 , 0.175, 0.96 , 0.65 , 0.175]), 'split4_test_score': array([0.86 , 0.51 , 0.135, 0.885, 0.545, 0.14 , 0.885, 0.545, 0.14 ]), 'mean_test_score': array([0.901, 0.552, 0.139, 0.911, 0.595, 0.14 , 0.911, 0.595, 0.14 ]), 'std_test_score': array([0.03023243, 0.03867816, 0.02332381, 0.02634388, 0.03962323,\n",
      "       0.0232379 , 0.02634388, 0.03962323, 0.0232379 ]), 'rank_test_score': array([3, 6, 9, 1, 4, 7, 1, 4, 7])}\n"
     ]
    }
   ],
   "source": [
    "permutation = np.random.permutation(X.shape[0])\n",
    "\n",
    "X = X[permutation]\n",
    "y = y[permutation]\n",
    "\n",
    "\n",
    "m_training = 1000\n",
    "\n",
    "X_train, X_test = X[:m_training], X[m_training:]\n",
    "y_train, y_test = y[:m_training], y[m_training:]\n",
    "\n",
    "np.unique(y_train, return_counts = True)\n",
    "\n",
    "\n",
    "#run linear SVM\n",
    "linear_SVM = SVC(kernel='linear')\n",
    "\n",
    "#find best model using 5-fold CV \n",
    "#and train it using all the training data\n",
    "\n",
    "clf=GridSearchCV(linear_SVM, parameters)\n",
    "\n",
    "clf.fit(X_train,y_train)\n",
    "\n",
    "print ('RESULTS FOR LINEAR KERNEL\\n')\n",
    "\n",
    "print(\"Best parameters set found:\" + str(clf.best_params_))\n",
    "# ADD CODE\n",
    "\n",
    "print(\"Score with best parameters:\" + str(clf.best_score_))\n",
    "# ADD CODE\n",
    "\n",
    "print(\"\\nAll scores on the grid:\" + str(clf.cv_results_))\n",
    "# ADD CODE\n",
    "\n",
    "# parameters for poly with degree 2 kernel\n",
    "parameters = {'C': [1, 10, 100],'gamma':[0.01,0.1,1.]}\n",
    "\n",
    "#run SVM with poly of degree 2 kernel\n",
    "poly2_SVM = SVC(kernel='poly',degree=2)\n",
    "\n",
    "clf=GridSearchCV(poly2_SVM, parameters)\n",
    "\n",
    "clf.fit(X_train,y_train)\n",
    "\n",
    "print ('\\nRESULTS FOR POLY DEGREE=2 KERNEL\\n')\n",
    "\n",
    "print(\"Best parameters set found:\" + str(clf.best_params_))\n",
    "# ADD CODE\n",
    "\n",
    "print(\"Score with best parameters:\" + str(clf.best_score_))\n",
    "# ADD CODE\n",
    "\n",
    "print(\"\\nAll scores on the grid:\" + str(clf.cv_results_))\n",
    "# ADD CODE\n",
    "\n",
    "# parameters for rbf SVM\n",
    "parameters = {'C': [1, 10, 100],'gamma':[0.01,0.1,1.]}\n",
    "\n",
    "#run SVM with rbf kernel\n",
    "rbf_SVM = SVC(kernel='rbf')\n",
    "\n",
    "clf=GridSearchCV(rbf_SVM, parameters)\n",
    "\n",
    "clf.fit(X_train,y_train)\n",
    "\n",
    "print ('\\nRESULTS FOR POLY DEGREE=2 KERNEL\\n')\n",
    "\n",
    "print(\"Best parameters set found:\" + str(clf.best_params_))\n",
    "# ADD CODE\n",
    "\n",
    "print(\"Score with best parameters:\" + str(clf.best_score_))\n",
    "# ADD CODE\n",
    "\n",
    "print(\"\\nAll scores on the grid:\" + str(clf.cv_results_))\n",
    "# ADD CODE\n",
    "\n"
   ]
  },
  {
   "cell_type": "code",
   "execution_count": 12,
   "metadata": {},
   "outputs": [
    {
     "name": "stdout",
     "output_type": "stream",
     "text": [
      "Best SVM training error: 0.000000\n",
      "Best SVM test error: 0.078783\n",
      "Best logistic regression training error: 0.000000\n",
      "Best logistic regression test error: 0.129667\n",
      "Best logistic regression training error: 0.004000\n",
      "Best logistic regression test error: 0.127101\n"
     ]
    }
   ],
   "source": [
    "#get training and test error for the best SVM model from CV\n",
    "best_SVM = SVC(C=10.0, kernel='rbf', gamma=0.01)\n",
    "\n",
    "# fit the model on the entire training set\n",
    "# ADD CODE\n",
    "best_SVM.fit(X_train, y_train)\n",
    "\n",
    "#get the training and test error\n",
    "training_error = 1. - best_SVM.score(X_train,y_train)\n",
    "test_error = 1. - best_SVM.score(X_test,y_test)\n",
    "\n",
    "print (\"Best SVM training error: %f\" % training_error)\n",
    "print (\"Best SVM test error: %f\" % test_error)\n",
    "\n",
    "\n",
    "lr = linear_model.LogisticRegression(max_iter=1000)\n",
    "# fit the model on the training data\n",
    "lr.fit(X_train, y_train)\n",
    "\n",
    "#compute training and test error for model above\n",
    "training_error = 1. - lr.score(X_train,y_train)\n",
    "test_error = 1. - lr.score(X_test,y_test)\n",
    "\n",
    "print (\"Best logistic regression training error: %f\" % training_error)\n",
    "print (\"Best logistic regression test error: %f\" % test_error)\n",
    "\n",
    "#logistic regression with 5-fold CV: you can use use linear_model.LogisticRegressionCV\n",
    "# use 5-fold CV to find the best choice of the parameter, than train\n",
    "# the model on the entire training set\n",
    "lr_cv = linear_model.LogisticRegressionCV(max_iter=1000)\n",
    "lr_cv.fit(X_train, y_train)\n",
    "training_error_cv = 1. - lr_cv.score(X_train,y_train)\n",
    "test_error_cv = 1. - lr_cv.score(X_test,y_test)\n",
    "\n",
    "print (\"Best logistic regression training error: %f\" % training_error_cv)\n",
    "print (\"Best logistic regression test error: %f\" % test_error_cv)"
   ]
  },
  {
   "cell_type": "code",
   "execution_count": 13,
   "metadata": {},
   "outputs": [
    {
     "name": "stdout",
     "output_type": "stream",
     "text": [
      "INPUT:\n"
     ]
    },
    {
     "data": {
      "image/png": "[encoded data removed]",
      "text/plain": [
       "<Figure size 432x288 with 1 Axes>"
      ]
     },
     "metadata": {
      "needs_background": "light"
     },
     "output_type": "display_data"
    },
    {
     "name": "stdout",
     "output_type": "stream",
     "text": [
      "LABEL: 1\n",
      "indice errato: 1\n",
      "label logistic regression: 8\n",
      "label svm: 1\n"
     ]
    }
   ],
   "source": [
    "y_predicted_lr = lr_cv.predict(X_test)\n",
    "y_predicted_svm = best_SVM.predict(X_test)\n",
    "for i in range( 0, len(X_test)):\n",
    "    if y_predicted_lr[i] != y_test[i]:\n",
    "        if y_predicted_svm[i] == y_test[i]:\n",
    "            break\n",
    "plot_digit(X_test,y_test,i)\n",
    "print(\"indice errato: \" + str(i))\n",
    "print(\"label logistic regression: \" + y_predicted_lr[i])\n",
    "print(\"label svm: \" + y_predicted_svm[i])\n"
   ]
  },
  {
   "cell_type": "markdown",
   "metadata": {},
   "source": [
    "## TO DO 7\n",
    "Compare and comment on the differences with the results above.\n",
    "\n",
    "This time, logistic regression with cross fold validation has better performance then standard logistic regression on the test set, even if the first one has training error = 0.004 against the 0 obtained in the other case. Again, both SVM and Logistic regression have training error=0. Both see an improvement of the error on the test set with 1000 samples and again SVM is the one with the best performance."
   ]
  },
  {
   "cell_type": "code",
   "execution_count": null,
   "metadata": {},
   "outputs": [],
   "source": []
  }
 ],
 "metadata": {
  "kernelspec": {
   "display_name": "Python 3",
   "language": "python",
   "name": "python3"
  },
  "language_info": {
   "codemirror_mode": {
    "name": "ipython",
    "version": 3
   },
   "file_extension": ".py",
   "mimetype": "text/x-python",
   "name": "python",
   "nbconvert_exporter": "python",
   "pygments_lexer": "ipython3",
   "version": "3.7.6"
  }
 },
 "nbformat": 4,
 "nbformat_minor": 4
}
